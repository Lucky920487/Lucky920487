{
  "nbformat": 4,
  "nbformat_minor": 0,
  "metadata": {
    "colab": {
      "provenance": [],
      "authorship_tag": "ABX9TyNtLH7PBtaa2K1vSE/i/x1/",
      "include_colab_link": true
    },
    "kernelspec": {
      "name": "python3",
      "display_name": "Python 3"
    },
    "language_info": {
      "name": "python"
    }
  },
  "cells": [
    {
      "cell_type": "markdown",
      "metadata": {
        "id": "view-in-github",
        "colab_type": "text"
      },
      "source": [
        "<a href=\"https://colab.research.google.com/github/Lucky920487/Lucky920487/blob/main/introduction_to_python_iitp_7_8_2014.ipynb\" target=\"_parent\"><img src=\"https://colab.research.google.com/assets/colab-badge.svg\" alt=\"Open In Colab\"/></a>"
      ]
    },
    {
      "cell_type": "code",
      "execution_count": null,
      "metadata": {
        "colab": {
          "base_uri": "https://localhost:8080/"
        },
        "id": "V5HX7ISuKXpp",
        "outputId": "361b3874-3d01-436d-ad51-56db51664393"
      },
      "outputs": [
        {
          "output_type": "stream",
          "name": "stdout",
          "text": [
            "Hello, World\n"
          ]
        }
      ],
      "source": [
        "print(\"Hello, World\")"
      ]
    },
    {
      "cell_type": "code",
      "source": [
        "# This is a comment.\n",
        "# Develop by lucky.\n",
        "# to check if condition.\n",
        "if 7 > 3:\n",
        "  print(\"yes. It is correct\")         # This is correct.\n",
        "  if 7>3:\n",
        "     print(\"yes. It is correct\")\n",
        "\n",
        "\n",
        "\"\"\"\n",
        "this is a comment.\n",
        "develop by lucky.\n",
        "To check if condition.\n",
        "\"\"\""
      ],
      "metadata": {
        "colab": {
          "base_uri": "https://localhost:8080/",
          "height": 72
        },
        "id": "FIlrP4abNRiQ",
        "outputId": "55f3b481-8456-40e9-eef5-31e3b625a311"
      },
      "execution_count": null,
      "outputs": [
        {
          "output_type": "stream",
          "name": "stdout",
          "text": [
            "yes. It is correct\n",
            "yes. It is correct\n"
          ]
        },
        {
          "output_type": "execute_result",
          "data": {
            "text/plain": [
              "'\\nthis is a comment.\\ndevelop by lucky.\\nTo check if condition.\\n'"
            ],
            "application/vnd.google.colaboratory.intrinsic+json": {
              "type": "string"
            }
          },
          "metadata": {},
          "execution_count": 21
        }
      ]
    },
    {
      "cell_type": "code",
      "source": [
        "\"\"\"\n",
        "This is a comment.\n",
        "Develop by lucky.\n",
        "To check if condition\n",
        "\"\"\"\n",
        "if 7 > 3:\n",
        "  print(\"yes. It is correct.\")\n",
        "  if 7>3:\n",
        "    print(\"yes. It is correct.\")"
      ],
      "metadata": {
        "colab": {
          "base_uri": "https://localhost:8080/"
        },
        "id": "hAeVbNMmQpvC",
        "outputId": "3c7c1676-df75-427f-a7da-967fa6bfa2e6"
      },
      "execution_count": null,
      "outputs": [
        {
          "output_type": "stream",
          "name": "stdout",
          "text": [
            "yes. It is correct.\n",
            "yes. It is correct.\n"
          ]
        }
      ]
    },
    {
      "cell_type": "code",
      "source": [
        "# Variables.\n",
        "x_2 = 8\n",
        "y = 9.5\n",
        "z = x_2+y\n",
        "print(z)"
      ],
      "metadata": {
        "colab": {
          "base_uri": "https://localhost:8080/"
        },
        "id": "Vzp_OhkuTLHK",
        "outputId": "5032db60-a7b8-4412-a62e-44d2acf49dfd"
      },
      "execution_count": null,
      "outputs": [
        {
          "output_type": "stream",
          "name": "stdout",
          "text": [
            "17.5\n"
          ]
        }
      ]
    },
    {
      "cell_type": "code",
      "source": [
        "x = float(2)\n",
        "y = float(9.6)\n",
        "z = int(\"6\")         # covert int to float\n",
        "w = float (7)\n",
        "t = z+w\n",
        "print(t)\n",
        "print(x)\n",
        "print(y)\n",
        "print(z)\n",
        "print(w)"
      ],
      "metadata": {
        "colab": {
          "base_uri": "https://localhost:8080/"
        },
        "id": "aDxhCM7qbtjA",
        "outputId": "e2604a77-1bd9-4e3a-97eb-37b7ca42d645"
      },
      "execution_count": null,
      "outputs": [
        {
          "output_type": "stream",
          "name": "stdout",
          "text": [
            "13.0\n",
            "2.0\n",
            "9.6\n",
            "6\n",
            "7.0\n"
          ]
        }
      ]
    },
    {
      "cell_type": "code",
      "source": [
        "# List\n",
        "mylist = [\"mango\", \"apple\", \"banana\"]\n",
        "mylist_1 = [5,6,7,8]\n",
        "print(mylist)\n",
        "print(mylist_1)"
      ],
      "metadata": {
        "colab": {
          "base_uri": "https://localhost:8080/"
        },
        "id": "6tzB6YfMiUkC",
        "outputId": "2ecd048a-ce3b-4952-8494-991674606fbf"
      },
      "execution_count": null,
      "outputs": [
        {
          "output_type": "stream",
          "name": "stdout",
          "text": [
            "['mango', 'apple', 'banana']\n",
            "[5, 6, 7, 8]\n"
          ]
        }
      ]
    },
    {
      "cell_type": "code",
      "source": [
        "# Function\n",
        "#def keyboard is used to define function in the python.\n",
        "def Lucky_function():\n",
        "  print(\"Hello! Its my function\")\n",
        "\n",
        "Lucky_function()    # Calling a function"
      ],
      "metadata": {
        "colab": {
          "base_uri": "https://localhost:8080/"
        },
        "id": "MIaX82AEmU4-",
        "outputId": "12719394-ced1-4434-859f-796aaa2854d6"
      },
      "execution_count": null,
      "outputs": [
        {
          "output_type": "stream",
          "name": "stdout",
          "text": [
            "Hello! Its my function\n"
          ]
        }
      ]
    },
    {
      "cell_type": "code",
      "source": [
        "def my_function(arg):\n",
        "  print(arg )\n",
        "\n",
        "my_function(\"Lucky\")\n"
      ],
      "metadata": {
        "colab": {
          "base_uri": "https://localhost:8080/"
        },
        "id": "TlDVJ-V2puMM",
        "outputId": "44604def-e488-4aa7-e1f4-052c780623eb"
      },
      "execution_count": null,
      "outputs": [
        {
          "output_type": "stream",
          "name": "stdout",
          "text": [
            "Lucky\n"
          ]
        }
      ]
    },
    {
      "cell_type": "code",
      "source": [
        "def m1_function(x):\n",
        "  fun_value = x*x+5*x-34\n",
        "  print(fun_value)\n",
        "\n",
        "m1_function(100)"
      ],
      "metadata": {
        "colab": {
          "base_uri": "https://localhost:8080/"
        },
        "id": "0sZ-BBtutfTq",
        "outputId": "897175e8-21a9-47e9-c8aa-70832ff3c5a8"
      },
      "execution_count": null,
      "outputs": [
        {
          "output_type": "stream",
          "name": "stdout",
          "text": [
            "10466\n"
          ]
        }
      ]
    },
    {
      "cell_type": "code",
      "source": [
        "#Arbitary arguments\n",
        "def my_function(*students):\n",
        "  \"\"\"\n",
        "\n",
        "  Args:\n",
        "    *students:\n",
        "  \"\"\"\n",
        "  print(\"The student detail:\" + students[1])\n",
        "\n",
        "my_function(\"Lucky\", \"Rohan\", \"Nikita\", )"
      ],
      "metadata": {
        "colab": {
          "base_uri": "https://localhost:8080/"
        },
        "id": "W4l0yrXcu5i_",
        "outputId": "db683504-2080-4eb2-af12-96865fc03b7f"
      },
      "execution_count": null,
      "outputs": [
        {
          "output_type": "stream",
          "name": "stdout",
          "text": [
            "The student detail:Rohan\n"
          ]
        }
      ]
    },
    {
      "cell_type": "code",
      "source": [
        "# keyboard-only arguments\n",
        "def my_function(y):\n",
        "  print(y)\n",
        "\n",
        "my_function(3)"
      ],
      "metadata": {
        "colab": {
          "base_uri": "https://localhost:8080/"
        },
        "id": "oQRY83_lw35C",
        "outputId": "019b2518-acc4-48f4-92ae-bb18b9e32015"
      },
      "execution_count": null,
      "outputs": [
        {
          "output_type": "stream",
          "name": "stdout",
          "text": [
            "3\n"
          ]
        }
      ]
    },
    {
      "cell_type": "code",
      "source": [
        "# positional only arguments\n",
        "def my_function(y,/):\n",
        "  print(y)\n",
        "\n",
        "my_function(3)"
      ],
      "metadata": {
        "colab": {
          "base_uri": "https://localhost:8080/"
        },
        "id": "Hsbyyts-xZ9e",
        "outputId": "68b9431b-507f-4995-984c-c28191b47f3a"
      },
      "execution_count": null,
      "outputs": [
        {
          "output_type": "stream",
          "name": "stdout",
          "text": [
            "3\n"
          ]
        }
      ]
    },
    {
      "cell_type": "code",
      "source": [
        "# Factorial of given number using recursion\n",
        "def factorial(n):\n",
        "  if(n==1 or n==0):\n",
        "    return 1\n",
        "  else:\n",
        "    value=(n*factorial(n-1))\n",
        "    return(value)\n",
        "factorial(100)"
      ],
      "metadata": {
        "colab": {
          "base_uri": "https://localhost:8080/"
        },
        "id": "t-fDacHGzBfQ",
        "outputId": "5a7c7d8e-ecb7-4ae4-9f75-ac938a60fb25"
      },
      "execution_count": null,
      "outputs": [
        {
          "output_type": "execute_result",
          "data": {
            "text/plain": [
              "93326215443944152681699238856266700490715968264381621468592963895217599993229915608941463976156518286253697920827223758251185210916864000000000000000000000000"
            ]
          },
          "metadata": {},
          "execution_count": 25
        }
      ]
    },
    {
      "cell_type": "code",
      "source": [
        "# List as an argument\n",
        "def my_function(fruits):\n",
        "  for x in fruits:\n",
        "   print(x)\n",
        "\n",
        "fruits = (\"banana\", \"apple\", \"mango\")\n",
        "my_function(fruits)"
      ],
      "metadata": {
        "colab": {
          "base_uri": "https://localhost:8080/"
        },
        "id": "h_xHAiGn1MNr",
        "outputId": "a19b9ecd-3dc3-4d23-ee26-1b59185d6316"
      },
      "execution_count": null,
      "outputs": [
        {
          "output_type": "stream",
          "name": "stdout",
          "text": [
            "banana\n",
            "apple\n",
            "mango\n"
          ]
        }
      ]
    },
    {
      "cell_type": "code",
      "source": [
        "# Fibonacci sequenceF(n)=F(n-1)+F(n-2)n>2,where F(0)=0 F(1)=1"
      ],
      "metadata": {
        "id": "QiG3OH3e34dB"
      },
      "execution_count": null,
      "outputs": []
    },
    {
      "cell_type": "code",
      "source": [
        "def fibonacci(n):\n",
        "  if n <=1 :\n",
        "   return n\n",
        "  else:\n",
        "    value = fibonacci(n-1)+fibonacci(n-2)\n",
        "    return(value)\n",
        "print(fibonacci(35))"
      ],
      "metadata": {
        "colab": {
          "base_uri": "https://localhost:8080/"
        },
        "id": "V__wPcHm4yB9",
        "outputId": "cecbe0e4-debd-4eb6-d932-b70276606905"
      },
      "execution_count": null,
      "outputs": [
        {
          "output_type": "stream",
          "name": "stdout",
          "text": [
            "9227465\n"
          ]
        }
      ]
    },
    {
      "cell_type": "code",
      "source": [
        "def fibonacci(n):\n",
        " if(n==0):\n",
        "  return 0\n",
        " elif(n==1):\n",
        "  return 1\n",
        " else:\n",
        "  return fibonacci(n-1)+fibonacci(n-2)\n",
        "\n",
        "fibonacci(35)"
      ],
      "metadata": {
        "colab": {
          "base_uri": "https://localhost:8080/"
        },
        "id": "bWr_XIxk-Gqu",
        "outputId": "bf370cb2-6ddf-4b98-a7e7-fc3b88cd24df"
      },
      "execution_count": null,
      "outputs": [
        {
          "output_type": "execute_result",
          "data": {
            "text/plain": [
              "9227465"
            ]
          },
          "metadata": {},
          "execution_count": 36
        }
      ]
    },
    {
      "cell_type": "code",
      "source": [
        "# classes and objects\n",
        "class student:       # class definition\n",
        " def __init__(self,name,age):\n",
        "  self.Name = name\n",
        "  self.age = age\n",
        "\n",
        "Lucky= student (\"Lucky\",20)\n",
        "\n",
        "print(Lucky.Name)\n",
        "print(Lucky.age)\n",
        "\n"
      ],
      "metadata": {
        "colab": {
          "base_uri": "https://localhost:8080/"
        },
        "id": "69ymbw3Ckzfm",
        "outputId": "3a08d757-6bd1-4530-fadd-e7ea5bcdd428"
      },
      "execution_count": null,
      "outputs": [
        {
          "output_type": "stream",
          "name": "stdout",
          "text": [
            "Lucky\n",
            "20\n"
          ]
        }
      ]
    },
    {
      "cell_type": "code",
      "source": [
        "# classes and objects\n",
        "class student:         # class definition\n",
        " Ins = \"IIT PATNA\"\n",
        "\n",
        " def __init__(self,name,age):\n",
        "   self.name =  name\n",
        "   self.age = age\n",
        "\n",
        " def fun(self):\n",
        "    print(\"I am \" , self.name)\n",
        "    print(\"I am \" , self.age)\n",
        "\n",
        "\n",
        "# object Initiations\n",
        "s1 = student(\"Lucky\" , 19)\n",
        "s2 = student(\"Nikita\", 19)\n",
        "\n",
        "\n",
        "# Accessing class attributes and methods through objects\n",
        "\n",
        "\n",
        "\n",
        "print(s1.name)\n",
        "print(s1.Ins)\n",
        "print(s1.age)\n",
        "s2.fun()\n"
      ],
      "metadata": {
        "colab": {
          "base_uri": "https://localhost:8080/"
        },
        "id": "e2MBsbk3n0q_",
        "outputId": "53faf231-07ba-4ac8-e1f0-14379ed20c80"
      },
      "execution_count": null,
      "outputs": [
        {
          "output_type": "stream",
          "name": "stdout",
          "text": [
            "Lucky\n",
            "IIT PATNA\n",
            "19\n",
            "I am  Nikita\n",
            "I am  19\n"
          ]
        }
      ]
    },
    {
      "cell_type": "code",
      "source": [
        "# classes and objects\n",
        "class bank :    # class definition\n",
        "  def __init__(self,name,age,mobile,city): # Corrected constructor name\n",
        "    self.name = name\n",
        "    self.age = age\n",
        "    self.mobile =  mobile\n",
        "    self.city = city\n",
        "# object Initiations\n",
        "s1 = bank(\"Lucky\",19,\"79036*****\", \"patna\")\n",
        "s2 = bank(\"blank\",20,\"9934******\", \"agra\")\n",
        "s3 = bank(\"blank\",20,\"9835******\", \"delhi\") # Assuming 'bank' is a defined class\n",
        "\n",
        " # Accessing class attributes and methods through objects\n",
        "\n",
        "print(s1.name,s1.age, s1.mobile,s1.city)\n",
        "print(s2.name,s2.age,s2.mobile,s2.city)\n",
        "print(s3.name,s3.age,s3.mobile,s3.city)"
      ],
      "metadata": {
        "colab": {
          "base_uri": "https://localhost:8080/"
        },
        "id": "gv9jj1REwgtX",
        "outputId": "49e6b0cd-d9da-4deb-b228-6becf9a37e5b"
      },
      "execution_count": null,
      "outputs": [
        {
          "output_type": "stream",
          "name": "stdout",
          "text": [
            "Lucky 19 79036***** patna\n",
            "blank 20 9934****** agra\n",
            "blank 20 9835****** delhi\n"
          ]
        }
      ]
    },
    {
      "cell_type": "markdown",
      "source": [
        "python inheritance\n",
        "// It allows us to define a class that inherits all the methods and features from another class:\n",
        "parent class: Base class\n",
        "child class: Derived class which inherits fron another/parent class."
      ],
      "metadata": {
        "id": "cRuNoHS19pYQ"
      }
    },
    {
      "cell_type": "code",
      "source": [
        "# parent class\n",
        "class student:       # class definition\n",
        " def __init__(self,name,age):\n",
        "  self.Name = name\n",
        "  self.age = age\n",
        "\n",
        "Lucky= student (\"Lucky\",20)\n",
        "\n",
        "print(Lucky.Name)\n",
        "print(Lucky.age)\n",
        "\n"
      ],
      "metadata": {
        "outputId": "3a08d757-6bd1-4530-fadd-e7ea5bcdd428",
        "colab": {
          "base_uri": "https://localhost:8080/"
        },
        "id": "6PIOFk49-g0f"
      },
      "execution_count": null,
      "outputs": [
        {
          "output_type": "stream",
          "name": "stdout",
          "text": [
            "Lucky\n",
            "20\n"
          ]
        }
      ]
    },
    {
      "cell_type": "code",
      "source": [
        "# child class or Inheritance\n",
        "class person(student):\n",
        "  #pass # keyword when you do not want to add other properties to the new class\n",
        "  def __init__(self,name,age,place):\n",
        "    self.name = name\n",
        "    self.age = age\n",
        "    self.place = place\n",
        "  def fun1(self):\n",
        "\n",
        "    print(\"I am\" , self.place)\n",
        "\n",
        "\n",
        "p1 = person(\"Lucky\" , 22, \"chapra\")\n",
        "p1.fun1()"
      ],
      "metadata": {
        "colab": {
          "base_uri": "https://localhost:8080/"
        },
        "id": "qQd9IYd8-vxy",
        "outputId": "2c3149cc-47db-481e-d982-a94c4fbe5c83"
      },
      "execution_count": null,
      "outputs": [
        {
          "output_type": "stream",
          "name": "stdout",
          "text": [
            "I am chapra\n"
          ]
        }
      ]
    },
    {
      "cell_type": "code",
      "source": [
        "# How to create stack using class\n",
        "# create class student with all the operation discussed...\n",
        "\n",
        "class student:\n",
        "  def __init__(self):\n",
        "   self.student = []\n",
        "\n",
        "\n",
        "  def push(self,name):\n",
        "    self.student.append(name)\n",
        "\n",
        "\n",
        "  def isEmpty(self):\n",
        "    return len(self.student) == 0\n",
        "\n",
        "\n",
        "  def pop(self):\n",
        "    if self.isEmpty():\n",
        "      return \"No student in the stack\"\n",
        "      return self.stack[-1]\n",
        "\n",
        "\n",
        "# create a different student groups.(create different stacks)\n",
        "IT_Student = student()\n",
        "IT_Student.push('Arnav')\n",
        "IT_Student.push('Tanishq')\n",
        "\n",
        "CSE_student = student()\n",
        "CSE_student.push('Lucky')\n",
        "CSE_student.push('Aditi')\n",
        "\n",
        "\n",
        "print(\"IT students List\", IT_Student.student)\n",
        "print(\"CSE students List\", CSE_student.student)"
      ],
      "metadata": {
        "colab": {
          "base_uri": "https://localhost:8080/"
        },
        "id": "QgbLN5YHGBzC",
        "outputId": "58a4b8de-c390-40f2-8ca6-0448a34851b6"
      },
      "execution_count": null,
      "outputs": [
        {
          "output_type": "stream",
          "name": "stdout",
          "text": [
            "IT students List ['Arnav', 'Tanishq']\n",
            "CSE students List ['Lucky', 'Aditi']\n"
          ]
        }
      ]
    },
    {
      "cell_type": "code",
      "source": [
        "# Arrays : How we create\n",
        "\n",
        "array = [10, 5, 78, 85, 4, 76]\n",
        "print(array[0])"
      ],
      "metadata": {
        "colab": {
          "base_uri": "https://localhost:8080/"
        },
        "id": "iygFCBotQk3J",
        "outputId": "7a84c712-2ee0-4d22-84ed-e87608b8a398"
      },
      "execution_count": null,
      "outputs": [
        {
          "output_type": "stream",
          "name": "stdout",
          "text": [
            "10\n"
          ]
        }
      ]
    },
    {
      "cell_type": "code",
      "source": [
        "# Arrays : how we create\n",
        "\n",
        "array =  [10,5, 8, 9, 76, 4]\n",
        "\n",
        "# Algorithm for minimum value\n",
        "min_value = array[0]\n",
        "for j in array:\n",
        "  if j < min_value:\n",
        "    min_value = j\n",
        "\n",
        "print(min_value)"
      ],
      "metadata": {
        "colab": {
          "base_uri": "https://localhost:8080/"
        },
        "id": "DZkXx4NiQ3xj",
        "outputId": "cd4b6816-144c-4e8f-f235-86d916fd6108"
      },
      "execution_count": null,
      "outputs": [
        {
          "output_type": "stream",
          "name": "stdout",
          "text": [
            "4\n"
          ]
        }
      ]
    },
    {
      "cell_type": "code",
      "source": [
        "# queue : Using arrays or list\n",
        "\n",
        "queue = []\n",
        "\n",
        "# Enqueue\n",
        "queue.append('AA')\n",
        "queue.append('BB')\n",
        "queue.append('CC')\n",
        "\n",
        "print(\"queue:\", queue)\n"
      ],
      "metadata": {
        "colab": {
          "base_uri": "https://localhost:8080/"
        },
        "id": "KTTimtJ-WbfV",
        "outputId": "eaab6c03-3c64-4c49-94b9-7c84a37940ee"
      },
      "execution_count": null,
      "outputs": [
        {
          "output_type": "stream",
          "name": "stdout",
          "text": [
            "queue: ['AA', 'BB', 'CC']\n"
          ]
        }
      ]
    },
    {
      "cell_type": "code",
      "source": [
        "# queue : using arrays or list\n",
        "\n",
        "\n",
        "queue = []\n",
        "\n",
        "#Enqueue\n",
        "queue.append('AA')\n",
        "queue.append('BB')\n",
        "queue.append('CC')\n",
        "queue.append('DD')\n",
        "\n",
        "print(\"queue:\", queue)\n",
        "\n",
        "#Dequeue\n",
        "\n",
        "name = queue.pop(1)\n",
        "print(\"Dequeue\",name)\n",
        "\n",
        "# size\n",
        "print(\"size:\", len(queue))\n",
        "\n",
        "# check Empty\n",
        "isEmpty = not bool(queue)\n",
        "print(\"isEmpty:\", isEmpty)\n",
        "\n"
      ],
      "metadata": {
        "colab": {
          "base_uri": "https://localhost:8080/"
        },
        "id": "Zc2qK4U3W9rc",
        "outputId": "d1bfdc51-e0ed-4179-ceb3-c93244439399"
      },
      "execution_count": null,
      "outputs": [
        {
          "output_type": "stream",
          "name": "stdout",
          "text": [
            "queue: ['AA', 'BB', 'CC', 'DD']\n",
            "Dequeue BB\n",
            "size: 3\n",
            "isEmpty: False\n"
          ]
        }
      ]
    },
    {
      "cell_type": "code",
      "source": [
        "# Write a python program for create  a child class Bus that will inherit all of the variables and methods of the vehicle clss.\n",
        "class vehicle:\n",
        "  def __init__(self,max_speed, mileage):\n",
        "    self.max_speed = max_speed\n",
        "    self.mileage = mileage\n",
        "\n",
        "modelx= vehicle(200,20)\n",
        "\n",
        "print(modelx.max_speed,modelx.mileage)"
      ],
      "metadata": {
        "colab": {
          "base_uri": "https://localhost:8080/"
        },
        "id": "WiCIHtaDi2VZ",
        "outputId": "42eb1d6a-01c4-4ae3-bb29-b5e4495cce43"
      },
      "execution_count": null,
      "outputs": [
        {
          "output_type": "stream",
          "name": "stdout",
          "text": [
            "200 20\n"
          ]
        }
      ]
    },
    {
      "cell_type": "code",
      "source": [
        "# Write a python program in which you have a starting position a car at(0,0)\n",
        "import math\n",
        "pos=[0,0]\n",
        "while True:\n",
        "  s = input(\"Enter the direction and steps: \")\n",
        "\n",
        "  if not s:\n",
        "    break\n",
        "# string ko split function ek list m convert kr deta h\n",
        "\n",
        "  movement = s.split(\" \")\n",
        "\n",
        "  # Check if the input contains both direction and steps\n",
        "  if len(movement) < 2:\n",
        "    print(\"Invalid input. Please enter both direction and steps.\")\n",
        "    continue  # Skip to the next iteration of the loop\n",
        "\n",
        "# [UP,s ]\n",
        "  direction = movement[0]\n",
        "  steps = int(movement[1])\n",
        "\n",
        "  if direction == \"UP\":\n",
        "      pos[1]+= steps\n",
        "  elif direction == \"DOWN\":\n",
        "       pos[1]-= steps\n",
        "\n",
        "  elif direction == \"LEFT\":\n",
        "        pos[0]-= steps\n",
        "\n",
        "  elif direction == \"Right\":\n",
        "        pos[0]+= steps\n",
        "\n",
        "  else:\n",
        "        pass\n",
        "\n",
        "print(int(round(math.sqrt(pos[0]**2 + pos[1]**2))))"
      ],
      "metadata": {
        "colab": {
          "base_uri": "https://localhost:8080/"
        },
        "id": "GOtZlRDw_5_y",
        "outputId": "23ff90aa-d6fb-4aec-d233-f2ccbcdf1a1b"
      },
      "execution_count": null,
      "outputs": [
        {
          "output_type": "stream",
          "name": "stdout",
          "text": [
            "Enter the direction and steps: UP 10\n",
            "Enter the direction and steps: LEFT -5\n",
            "Enter the direction and steps: \n",
            "11\n"
          ]
        }
      ]
    },
    {
      "cell_type": "code",
      "source": [
        "pow(2,3)"
      ],
      "metadata": {
        "colab": {
          "base_uri": "https://localhost:8080/"
        },
        "id": "focxEr7aBznh",
        "outputId": "bd1443df-94bb-4499-c307-367d70ab12de"
      },
      "execution_count": null,
      "outputs": [
        {
          "output_type": "execute_result",
          "data": {
            "text/plain": [
              "8"
            ]
          },
          "metadata": {},
          "execution_count": 51
        }
      ]
    },
    {
      "cell_type": "code",
      "source": [
        "# Define a function that can generate a dictionary where the keys are numbers between 1-20(both include) and the values are square of keys.\n",
        "\n",
        "def square_dict():\n",
        "  d = dict()\n",
        "  for i in range(1,21):\n",
        "    d[i] = i**2\n",
        "\n",
        "  for (k,v) in d.items():\n",
        "    print(v)\n",
        "\n",
        "square_dict()"
      ],
      "metadata": {
        "colab": {
          "base_uri": "https://localhost:8080/"
        },
        "id": "_qwV6AwxE6m0",
        "outputId": "ec04cf6e-f725-4954-ac51-2c4fa16894f3"
      },
      "execution_count": null,
      "outputs": [
        {
          "output_type": "stream",
          "name": "stdout",
          "text": [
            "1\n",
            "4\n",
            "9\n",
            "16\n",
            "25\n",
            "36\n",
            "49\n",
            "64\n",
            "81\n",
            "100\n",
            "121\n",
            "144\n",
            "169\n",
            "196\n",
            "225\n",
            "256\n",
            "289\n",
            "324\n",
            "361\n",
            "400\n"
          ]
        }
      ]
    },
    {
      "cell_type": "code",
      "source": [
        "# Stack Implementation\n",
        "student = []\n",
        "\n",
        "# push Adding element in the stack\n",
        "student.append('Arnav')\n",
        "student. append('Aditi')\n",
        "student.append('Danish')\n",
        "\n",
        "print(\"student:\", student)\n",
        "\n",
        "# peek: Top element in the stack\n",
        "tople = student[-1]\n",
        "print(\"peek:\", tople)\n",
        "\n",
        "\n",
        "# pop removing and returning elements\n",
        "\n",
        "element = student.pop()\n",
        "print(\"Return:\", element)\n",
        "\n",
        "\n",
        "# size: Number of element in the stack\n",
        "print(\"size:\", len(student))\n",
        "\n",
        "# Is Empty\n",
        "isEmpty = not bool(student)\n",
        "print(\"IsEmpty:\", isEmpty)"
      ],
      "metadata": {
        "colab": {
          "base_uri": "https://localhost:8080/"
        },
        "id": "uSF6BukVMgCW",
        "outputId": "cd33b91f-48db-4399-eb56-0e4c05f72b1f"
      },
      "execution_count": null,
      "outputs": [
        {
          "output_type": "stream",
          "name": "stdout",
          "text": [
            "student: ['Arnav', 'Aditi', 'Danish']\n",
            "peek: Danish\n",
            "Return: Danish\n",
            "size: 2\n",
            "IsEmpty: False\n"
          ]
        }
      ]
    },
    {
      "cell_type": "code",
      "source": [
        "# Link list\n",
        "class Node:\n",
        "  def __init__(self,data):\n",
        "    self.data=data\n",
        "    self.next=None\n",
        "\n",
        "# Traverasl and printing of link list from given head node.\n",
        "  def traverseAndPrint(head):\n",
        "    currentNode=head\n",
        "    while currentNode:\n",
        "       print(currentNode.data,end=\"->\")\n",
        "       currentNode=currentNode.next\n",
        "  print(\"null\")\n",
        "\n",
        "# create a list or object\n",
        "\n",
        "node1 = Node(15)\n",
        "node2 = Node(10)\n",
        "node3 = Node(5)\n",
        "node4 = Node(20)\n",
        "\n",
        "# creation of connection or link\n",
        "\n",
        "node1.next = node2\n",
        "node2.next=node3\n",
        "node3.next = node4\n",
        "\n",
        "\n",
        "# Exicuting function\n",
        "\n",
        "node2.traverseAndPrint()\n",
        "\n",
        "\n"
      ],
      "metadata": {
        "colab": {
          "base_uri": "https://localhost:8080/"
        },
        "id": "cFMPmJqOBjuh",
        "outputId": "9c3a6232-7c2c-47e1-9b1a-ccc8024925a6"
      },
      "execution_count": null,
      "outputs": [
        {
          "output_type": "stream",
          "name": "stdout",
          "text": [
            "null\n",
            "10->5->20->"
          ]
        }
      ]
    },
    {
      "cell_type": "code",
      "source": [
        "def foo(a, b=2, c= 3):\n",
        "  return a+b*c\n",
        "print(foo(1, c=4))\n",
        "# a=1, b=2, c=4"
      ],
      "metadata": {
        "colab": {
          "base_uri": "https://localhost:8080/"
        },
        "id": "eVrlxDvWD6rJ",
        "outputId": "9885c111-912d-4aa3-e637-fb31b5f60730"
      },
      "execution_count": null,
      "outputs": [
        {
          "output_type": "stream",
          "name": "stdout",
          "text": [
            "9\n"
          ]
        }
      ]
    },
    {
      "cell_type": "code",
      "source": [
        " # Date 3rd september\n",
        "\n",
        "def min_value(head):\n",
        "  minvalue = head.data\n",
        "  currentNode = head.next\n",
        "  while currentNode:\n",
        "    if currentNode.data<minvalue:\n",
        "      minvalue = currentNode.data\n",
        "    currentNode = currentNode.next\n",
        "  return minvalue\n",
        "print(\"The minimum value in the list:\", min_value(node1))"
      ],
      "metadata": {
        "colab": {
          "base_uri": "https://localhost:8080/"
        },
        "id": "WnrB2DsREScY",
        "outputId": "b5f7d2fe-1df3-49ae-ed1c-c5a7f6c55980"
      },
      "execution_count": null,
      "outputs": [
        {
          "output_type": "stream",
          "name": "stdout",
          "text": [
            "The minimum value in the list: 5\n"
          ]
        }
      ]
    },
    {
      "cell_type": "code",
      "source": [
        "# Def for deleting a node from the link list\n",
        "\n",
        "def deleteNode(head, nodeetodelete):\n",
        "  if head==nodeetodelete:\n",
        "    return head.next\n",
        "    currentNode=head\n",
        "    while currentNode:\n",
        "      if currentNode.next==nodeetodelete:\n",
        "        currentNode.next=nodeetodelete.next\n",
        "        breakcurrentNode=currentNode.next\n",
        "        return head\n",
        "# Delete a node\n",
        "node1.traverseAndPrint()\n"
      ],
      "metadata": {
        "colab": {
          "base_uri": "https://localhost:8080/"
        },
        "id": "dQGDi5Q_Fc5Z",
        "outputId": "29f0ec29-c5bf-4c6e-e9a9-fc1ccd76df6a"
      },
      "execution_count": null,
      "outputs": [
        {
          "output_type": "stream",
          "name": "stdout",
          "text": [
            "15->10->5->20->"
          ]
        }
      ]
    },
    {
      "cell_type": "code",
      "source": [
        "node1 = deleteNode(node1,node1)   # Deletion\n",
        "node1.traverseAndPrint()"
      ],
      "metadata": {
        "colab": {
          "base_uri": "https://localhost:8080/"
        },
        "id": "oCjNPruZMzPl",
        "outputId": "783bea41-2817-4ac7-faed-691931e8283a"
      },
      "execution_count": null,
      "outputs": [
        {
          "output_type": "stream",
          "name": "stdout",
          "text": [
            "10->5->20->"
          ]
        }
      ]
    },
    {
      "cell_type": "code",
      "source": [
        "# Insert a new node in the link list\n",
        "\n",
        "newNode=Node(100)\n",
        "def insertAnode(head,newnode,position):\n",
        "  if position==1:\n",
        "    newnode.next=head\n",
        "  return newnode\n",
        "  currentNode = head\n",
        "  for i in range(position-2):\n",
        "     currentNode = currentNode.next\n",
        "     newnode.next=currentNode.next\n",
        "     currentNode.next=newnode\n",
        "     return head"
      ],
      "metadata": {
        "id": "mJU_eiofP8hT"
      },
      "execution_count": null,
      "outputs": []
    },
    {
      "cell_type": "code",
      "source": [
        "newnode=Node(1001)\n",
        "node1 = insertAnode(node1,newnode,6)\n",
        "node1.traverseAndPrint()"
      ],
      "metadata": {
        "colab": {
          "base_uri": "https://localhost:8080/"
        },
        "id": "65xcukt2Q0Z7",
        "outputId": "ab014b54-792a-43c1-f9bf-8cbd81bfe0b1"
      },
      "execution_count": null,
      "outputs": [
        {
          "output_type": "stream",
          "name": "stdout",
          "text": [
            "1001->"
          ]
        }
      ]
    },
    {
      "cell_type": "code",
      "source": [
        " # Doubly Linked list\n",
        "\n",
        "# Node creation for doubly linked list\n",
        "\n",
        "class Node:\n",
        "  def __init__(self, next=None, prev=None, data=None):\n",
        "    self.data=data    # for the data at the node\n",
        "    self.next=next    # for the next node in DLL\n",
        "    self.prev=prev    # for the previous node in DLL\n",
        "\n",
        "\n",
        "# Different node creation as objects\n",
        "node1= Node(data='A')\n",
        "node2= Node(data='B')\n",
        "node3= Node(data='c')\n",
        "node4= Node(data='D')\n",
        "\n",
        " # Method to insert a node at the beginning of the list\n",
        "def insert_at_beginning(self, data):\n",
        "        new_node = Node(data)\n",
        "        new_node.next = self.head\n",
        "        if self.head is not None:\n",
        "            self.head.prev = new_node\n",
        "        self.head = new_node\n",
        "\n",
        "# Doubly linked assignments\n",
        "head=node1\n",
        "node1.next=node2\n",
        "node2.next=node3\n",
        "node2.previous=node1\n",
        "\n",
        "node3.next=node4\n",
        "node3.previous=node2\n",
        "\n",
        "node4.previous=node3\n",
        "\n",
        "# Traverse the DLL and prints its elements\n",
        "\n",
        "def traverse(head):\n",
        "  current=head\n",
        "  while current:\n",
        "    print(current.data, end=\"<-->\")   # print the current node data\n",
        "    current=current.next   # move to the next node\n",
        "  print(\"None\")\n",
        "\n",
        "# Driver code to traverse and print the DLL\n",
        "traverse(head)"
      ],
      "metadata": {
        "colab": {
          "base_uri": "https://localhost:8080/"
        },
        "id": "i4ghjW-IwpcJ",
        "outputId": "84e064bb-d883-48e1-d35a-e151c02e2932"
      },
      "execution_count": 8,
      "outputs": [
        {
          "output_type": "stream",
          "name": "stdout",
          "text": [
            "A<-->B<-->c<-->D<-->None\n"
          ]
        }
      ]
    },
    {
      "cell_type": "code",
      "source": [
        "# Node class representing each element in the list\n",
        "class Node:\n",
        "    def __init__(self, data): # Added __ to init\n",
        "        self.data = data\n",
        "        self.prev = None\n",
        "        self.next = None\n",
        "\n",
        "# Doubly Linked List class\n",
        "class DoublyLinkedList:\n",
        "    def __init__(self): # Added __ to init\n",
        "        self.head = None\n",
        "\n",
        "    # Method to insert a node at the beginning of the list\n",
        "    def insert_at_beginning(self, data):\n",
        "        new_node = Node(data)\n",
        "        new_node.next = self.head\n",
        "        if self.head is not None:\n",
        "            self.head.prev = new_node\n",
        "        self.head = new_node\n",
        "\n",
        "    # Method to print the list\n",
        "    def print_list(self):\n",
        "        current = self.head\n",
        "        while current:\n",
        "            print(current.data, end=\" \")\n",
        "            current = current.next\n",
        "        print()\n",
        "\n",
        "# Example usage\n",
        "dll = DoublyLinkedList()\n",
        "dll.insert_at_beginning(10)\n",
        "dll.insert_at_beginning(20)\n",
        "dll.insert_at_beginning(30)\n",
        "\n",
        "print(\"Doubly Linked List:\")\n",
        "dll.print_list()"
      ],
      "metadata": {
        "colab": {
          "base_uri": "https://localhost:8080/"
        },
        "id": "l3OKCBs5-thX",
        "outputId": "e09f1ced-32cb-4096-c6b7-6ce62d0f5674"
      },
      "execution_count": 5,
      "outputs": [
        {
          "output_type": "stream",
          "name": "stdout",
          "text": [
            "Doubly Linked List:\n",
            "30 20 10 \n"
          ]
        }
      ]
    },
    {
      "cell_type": "code",
      "source": [
        " # Insert a new node at the beginning oo DLL\n",
        "\n",
        "def insert_begin(head, data):\n",
        "    newnode=Node(data)   # creation of new node using class\n",
        "    newnode.next=head\n",
        "    if head:\n",
        "      head.prev=newnode\n",
        "    return newnode\n",
        "\n",
        "#Drive\n",
        "head=insert_begin(head=node1, data=2)\n",
        "traverse(head)\n",
        "\n"
      ],
      "metadata": {
        "colab": {
          "base_uri": "https://localhost:8080/"
        },
        "id": "HLr4pGTSAN5W",
        "outputId": "b81c0da4-bbe0-4c52-cad5-8085bca26d03"
      },
      "execution_count": 15,
      "outputs": [
        {
          "output_type": "stream",
          "name": "stdout",
          "text": [
            "None<-->A<-->B<-->c<-->D<-->None\n"
          ]
        }
      ]
    }
  ]
}