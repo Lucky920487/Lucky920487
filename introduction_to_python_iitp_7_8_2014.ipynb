{
  "nbformat": 4,
  "nbformat_minor": 0,
  "metadata": {
    "colab": {
      "provenance": [],
      "authorship_tag": "ABX9TyPzZTrNak7kK1ezm36Rb32/",
      "include_colab_link": true
    },
    "kernelspec": {
      "name": "python3",
      "display_name": "Python 3"
    },
    "language_info": {
      "name": "python"
    }
  },
  "cells": [
    {
      "cell_type": "markdown",
      "metadata": {
        "id": "view-in-github",
        "colab_type": "text"
      },
      "source": [
        "<a href=\"https://colab.research.google.com/github/Lucky920487/Lucky920487/blob/main/introduction_to_python_iitp_7_8_2014.ipynb\" target=\"_parent\"><img src=\"https://colab.research.google.com/assets/colab-badge.svg\" alt=\"Open In Colab\"/></a>"
      ]
    },
    {
      "cell_type": "code",
      "execution_count": null,
      "metadata": {
        "colab": {
          "base_uri": "https://localhost:8080/"
        },
        "id": "V5HX7ISuKXpp",
        "outputId": "361b3874-3d01-436d-ad51-56db51664393"
      },
      "outputs": [
        {
          "output_type": "stream",
          "name": "stdout",
          "text": [
            "Hello, World\n"
          ]
        }
      ],
      "source": [
        "print(\"Hello, World\")"
      ]
    },
    {
      "cell_type": "code",
      "source": [
        "# This is a comment.\n",
        "# Develop by lucky.\n",
        "# to check if condition.\n",
        "if 7 > 3:\n",
        "  print(\"yes. It is correct\")         # This is correct.\n",
        "  if 7>3:\n",
        "     print(\"yes. It is correct\")\n",
        "\n",
        "\n",
        "\"\"\"\n",
        "this is a comment.\n",
        "develop by lucky.\n",
        "To check if condition.\n",
        "\"\"\""
      ],
      "metadata": {
        "colab": {
          "base_uri": "https://localhost:8080/",
          "height": 72
        },
        "id": "FIlrP4abNRiQ",
        "outputId": "55f3b481-8456-40e9-eef5-31e3b625a311"
      },
      "execution_count": null,
      "outputs": [
        {
          "output_type": "stream",
          "name": "stdout",
          "text": [
            "yes. It is correct\n",
            "yes. It is correct\n"
          ]
        },
        {
          "output_type": "execute_result",
          "data": {
            "text/plain": [
              "'\\nthis is a comment.\\ndevelop by lucky.\\nTo check if condition.\\n'"
            ],
            "application/vnd.google.colaboratory.intrinsic+json": {
              "type": "string"
            }
          },
          "metadata": {},
          "execution_count": 21
        }
      ]
    },
    {
      "cell_type": "code",
      "source": [
        "\"\"\"\n",
        "This is a comment.\n",
        "Develop by lucky.\n",
        "To check if condition\n",
        "\"\"\"\n",
        "if 7 > 3:\n",
        "  print(\"yes. It is correct.\")\n",
        "  if 7>3:\n",
        "    print(\"yes. It is correct.\")"
      ],
      "metadata": {
        "colab": {
          "base_uri": "https://localhost:8080/"
        },
        "id": "hAeVbNMmQpvC",
        "outputId": "3c7c1676-df75-427f-a7da-967fa6bfa2e6"
      },
      "execution_count": null,
      "outputs": [
        {
          "output_type": "stream",
          "name": "stdout",
          "text": [
            "yes. It is correct.\n",
            "yes. It is correct.\n"
          ]
        }
      ]
    },
    {
      "cell_type": "code",
      "source": [
        "# Variables.\n",
        "x_2 = 8\n",
        "y = 9.5\n",
        "z = x_2+y\n",
        "print(z)"
      ],
      "metadata": {
        "colab": {
          "base_uri": "https://localhost:8080/"
        },
        "id": "Vzp_OhkuTLHK",
        "outputId": "5032db60-a7b8-4412-a62e-44d2acf49dfd"
      },
      "execution_count": null,
      "outputs": [
        {
          "output_type": "stream",
          "name": "stdout",
          "text": [
            "17.5\n"
          ]
        }
      ]
    },
    {
      "cell_type": "code",
      "source": [
        "x = float(2)\n",
        "y = float(9.6)\n",
        "z = int(\"6\")         # covert int to float\n",
        "w = float (7)\n",
        "t = z+w\n",
        "print(t)\n",
        "print(x)\n",
        "print(y)\n",
        "print(z)\n",
        "print(w)"
      ],
      "metadata": {
        "colab": {
          "base_uri": "https://localhost:8080/"
        },
        "id": "aDxhCM7qbtjA",
        "outputId": "e2604a77-1bd9-4e3a-97eb-37b7ca42d645"
      },
      "execution_count": null,
      "outputs": [
        {
          "output_type": "stream",
          "name": "stdout",
          "text": [
            "13.0\n",
            "2.0\n",
            "9.6\n",
            "6\n",
            "7.0\n"
          ]
        }
      ]
    },
    {
      "cell_type": "code",
      "source": [
        "# List\n",
        "mylist = [\"mango\", \"apple\", \"banana\"]\n",
        "mylist_1 = [5,6,7,8]\n",
        "print(mylist)\n",
        "print(mylist_1)"
      ],
      "metadata": {
        "colab": {
          "base_uri": "https://localhost:8080/"
        },
        "id": "6tzB6YfMiUkC",
        "outputId": "2ecd048a-ce3b-4952-8494-991674606fbf"
      },
      "execution_count": null,
      "outputs": [
        {
          "output_type": "stream",
          "name": "stdout",
          "text": [
            "['mango', 'apple', 'banana']\n",
            "[5, 6, 7, 8]\n"
          ]
        }
      ]
    },
    {
      "cell_type": "code",
      "source": [
        "# Function\n",
        "#def keyboard is used to define function in the python.\n",
        "def Lucky_function():\n",
        "  print(\"Hello! Its my function\")\n",
        "\n",
        "Lucky_function()    # Calling a function"
      ],
      "metadata": {
        "colab": {
          "base_uri": "https://localhost:8080/"
        },
        "id": "MIaX82AEmU4-",
        "outputId": "12719394-ced1-4434-859f-796aaa2854d6"
      },
      "execution_count": null,
      "outputs": [
        {
          "output_type": "stream",
          "name": "stdout",
          "text": [
            "Hello! Its my function\n"
          ]
        }
      ]
    },
    {
      "cell_type": "code",
      "source": [
        "def my_function(arg):\n",
        "  print(arg )\n",
        "\n",
        "my_function(\"Lucky\")\n"
      ],
      "metadata": {
        "colab": {
          "base_uri": "https://localhost:8080/"
        },
        "id": "TlDVJ-V2puMM",
        "outputId": "44604def-e488-4aa7-e1f4-052c780623eb"
      },
      "execution_count": null,
      "outputs": [
        {
          "output_type": "stream",
          "name": "stdout",
          "text": [
            "Lucky\n"
          ]
        }
      ]
    },
    {
      "cell_type": "code",
      "source": [
        "def m1_function(x):\n",
        "  fun_value = x*x+5*x-34\n",
        "  print(fun_value)\n",
        "\n",
        "m1_function(100)"
      ],
      "metadata": {
        "colab": {
          "base_uri": "https://localhost:8080/"
        },
        "id": "0sZ-BBtutfTq",
        "outputId": "897175e8-21a9-47e9-c8aa-70832ff3c5a8"
      },
      "execution_count": null,
      "outputs": [
        {
          "output_type": "stream",
          "name": "stdout",
          "text": [
            "10466\n"
          ]
        }
      ]
    },
    {
      "cell_type": "code",
      "source": [
        "#Arbitary arguments\n",
        "def my_function(*students):\n",
        "  \"\"\"\n",
        "\n",
        "  Args:\n",
        "    *students:\n",
        "  \"\"\"\n",
        "  print(\"The student detail:\" + students[1])\n",
        "\n",
        "my_function(\"Lucky\", \"Rohan\", \"Nikita\", )"
      ],
      "metadata": {
        "colab": {
          "base_uri": "https://localhost:8080/"
        },
        "id": "W4l0yrXcu5i_",
        "outputId": "db683504-2080-4eb2-af12-96865fc03b7f"
      },
      "execution_count": null,
      "outputs": [
        {
          "output_type": "stream",
          "name": "stdout",
          "text": [
            "The student detail:Rohan\n"
          ]
        }
      ]
    },
    {
      "cell_type": "code",
      "source": [
        "# keyboard-only arguments\n",
        "def my_function(y):\n",
        "  print(y)\n",
        "\n",
        "my_function(3)"
      ],
      "metadata": {
        "colab": {
          "base_uri": "https://localhost:8080/"
        },
        "id": "oQRY83_lw35C",
        "outputId": "019b2518-acc4-48f4-92ae-bb18b9e32015"
      },
      "execution_count": null,
      "outputs": [
        {
          "output_type": "stream",
          "name": "stdout",
          "text": [
            "3\n"
          ]
        }
      ]
    },
    {
      "cell_type": "code",
      "source": [
        "# positional only arguments\n",
        "def my_function(y,/):\n",
        "  print(y)\n",
        "\n",
        "my_function(3)"
      ],
      "metadata": {
        "colab": {
          "base_uri": "https://localhost:8080/"
        },
        "id": "Hsbyyts-xZ9e",
        "outputId": "68b9431b-507f-4995-984c-c28191b47f3a"
      },
      "execution_count": null,
      "outputs": [
        {
          "output_type": "stream",
          "name": "stdout",
          "text": [
            "3\n"
          ]
        }
      ]
    },
    {
      "cell_type": "code",
      "source": [
        "# Factorial of given number using recursion\n",
        "def factorial(n):\n",
        "  if(n==1 or n==0):\n",
        "    return 1\n",
        "  else:\n",
        "    value=(n*factorial(n-1))\n",
        "    return(value)\n",
        "factorial(100)"
      ],
      "metadata": {
        "colab": {
          "base_uri": "https://localhost:8080/"
        },
        "id": "t-fDacHGzBfQ",
        "outputId": "5a7c7d8e-ecb7-4ae4-9f75-ac938a60fb25"
      },
      "execution_count": null,
      "outputs": [
        {
          "output_type": "execute_result",
          "data": {
            "text/plain": [
              "93326215443944152681699238856266700490715968264381621468592963895217599993229915608941463976156518286253697920827223758251185210916864000000000000000000000000"
            ]
          },
          "metadata": {},
          "execution_count": 25
        }
      ]
    },
    {
      "cell_type": "code",
      "source": [
        "# List as an argument\n",
        "def my_function(fruits):\n",
        "  for x in fruits:\n",
        "   print(x)\n",
        "\n",
        "fruits = (\"banana\", \"apple\", \"mango\")\n",
        "my_function(fruits)"
      ],
      "metadata": {
        "colab": {
          "base_uri": "https://localhost:8080/"
        },
        "id": "h_xHAiGn1MNr",
        "outputId": "a19b9ecd-3dc3-4d23-ee26-1b59185d6316"
      },
      "execution_count": null,
      "outputs": [
        {
          "output_type": "stream",
          "name": "stdout",
          "text": [
            "banana\n",
            "apple\n",
            "mango\n"
          ]
        }
      ]
    },
    {
      "cell_type": "code",
      "source": [
        "# Fibonacci sequenceF(n)=F(n-1)+F(n-2)n>2,where F(0)=0 F(1)=1"
      ],
      "metadata": {
        "id": "QiG3OH3e34dB"
      },
      "execution_count": null,
      "outputs": []
    },
    {
      "cell_type": "code",
      "source": [
        "def fibonacci(n):\n",
        "  if n <=1 :\n",
        "   return n\n",
        "  else:\n",
        "    value = fibonacci(n-1)+fibonacci(n-2)\n",
        "    return(value)\n",
        "print(fibonacci(35))"
      ],
      "metadata": {
        "colab": {
          "base_uri": "https://localhost:8080/"
        },
        "id": "V__wPcHm4yB9",
        "outputId": "cecbe0e4-debd-4eb6-d932-b70276606905"
      },
      "execution_count": null,
      "outputs": [
        {
          "output_type": "stream",
          "name": "stdout",
          "text": [
            "9227465\n"
          ]
        }
      ]
    },
    {
      "cell_type": "code",
      "source": [
        "def fibonacci(n):\n",
        " if(n==0):\n",
        "  return 0\n",
        " elif(n==1):\n",
        "  return 1\n",
        " else:\n",
        "  return fibonacci(n-1)+fibonacci(n-2)\n",
        "\n",
        "fibonacci(35)"
      ],
      "metadata": {
        "colab": {
          "base_uri": "https://localhost:8080/"
        },
        "id": "bWr_XIxk-Gqu",
        "outputId": "bf370cb2-6ddf-4b98-a7e7-fc3b88cd24df"
      },
      "execution_count": null,
      "outputs": [
        {
          "output_type": "execute_result",
          "data": {
            "text/plain": [
              "9227465"
            ]
          },
          "metadata": {},
          "execution_count": 36
        }
      ]
    },
    {
      "cell_type": "code",
      "source": [
        "# classes and objects\n",
        "class student:       # class definition\n",
        " def __init__(self,name,age):\n",
        "  self.Name = name\n",
        "  self.age = age\n",
        "\n",
        "Lucky= student (\"Lucky\",20)\n",
        "\n",
        "print(Lucky.Name)\n",
        "print(Lucky.age)\n",
        "\n"
      ],
      "metadata": {
        "colab": {
          "base_uri": "https://localhost:8080/"
        },
        "id": "69ymbw3Ckzfm",
        "outputId": "3a08d757-6bd1-4530-fadd-e7ea5bcdd428"
      },
      "execution_count": null,
      "outputs": [
        {
          "output_type": "stream",
          "name": "stdout",
          "text": [
            "Lucky\n",
            "20\n"
          ]
        }
      ]
    },
    {
      "cell_type": "code",
      "source": [
        "# classes and objects\n",
        "class student:         # class definition\n",
        " Ins = \"IIT PATNA\"\n",
        "\n",
        " def __init__(self,name,age):\n",
        "   self.name =  name\n",
        "   self.age = age\n",
        "\n",
        " def fun(self):\n",
        "    print(\"I am \" , self.name)\n",
        "    print(\"I am \" , self.age)\n",
        "\n",
        "\n",
        "# object Initiations\n",
        "s1 = student(\"Lucky\" , 19)\n",
        "s2 = student(\"Nikita\", 19)\n",
        "\n",
        "\n",
        "# Accessing class attributes and methods through objects\n",
        "\n",
        "\n",
        "\n",
        "print(s1.name)\n",
        "print(s1.Ins)\n",
        "print(s1.age)\n",
        "s2.fun()\n"
      ],
      "metadata": {
        "colab": {
          "base_uri": "https://localhost:8080/"
        },
        "id": "e2MBsbk3n0q_",
        "outputId": "53faf231-07ba-4ac8-e1f0-14379ed20c80"
      },
      "execution_count": null,
      "outputs": [
        {
          "output_type": "stream",
          "name": "stdout",
          "text": [
            "Lucky\n",
            "IIT PATNA\n",
            "19\n",
            "I am  Nikita\n",
            "I am  19\n"
          ]
        }
      ]
    },
    {
      "cell_type": "code",
      "source": [
        "# classes and objects\n",
        "class bank :    # class definition\n",
        "  def __init__(self,name,age,mobile,city): # Corrected constructor name\n",
        "    self.name = name\n",
        "    self.age = age\n",
        "    self.mobile =  mobile\n",
        "    self.city = city\n",
        "# object Initiations\n",
        "s1 = bank(\"Lucky\",19,\"79036*****\", \"patna\")\n",
        "s2 = bank(\"blank\",20,\"9934******\", \"agra\")\n",
        "s3 = bank(\"blank\",20,\"9835******\", \"delhi\") # Assuming 'bank' is a defined class\n",
        "\n",
        " # Accessing class attributes and methods through objects\n",
        "\n",
        "print(s1.name,s1.age, s1.mobile,s1.city)\n",
        "print(s2.name,s2.age,s2.mobile,s2.city)\n",
        "print(s3.name,s3.age,s3.mobile,s3.city)"
      ],
      "metadata": {
        "colab": {
          "base_uri": "https://localhost:8080/"
        },
        "id": "gv9jj1REwgtX",
        "outputId": "49e6b0cd-d9da-4deb-b228-6becf9a37e5b"
      },
      "execution_count": null,
      "outputs": [
        {
          "output_type": "stream",
          "name": "stdout",
          "text": [
            "Lucky 19 79036***** patna\n",
            "blank 20 9934****** agra\n",
            "blank 20 9835****** delhi\n"
          ]
        }
      ]
    },
    {
      "cell_type": "markdown",
      "source": [
        "python inheritance\n",
        "// It allows us to define a class that inherits all the methods and features from another class:\n",
        "parent class: Base class\n",
        "child class: Derived class which inherits fron another/parent class."
      ],
      "metadata": {
        "id": "cRuNoHS19pYQ"
      }
    },
    {
      "cell_type": "code",
      "source": [
        "# parent class\n",
        "class student:       # class definition\n",
        " def __init__(self,name,age):\n",
        "  self.Name = name\n",
        "  self.age = age\n",
        "\n",
        "Lucky= student (\"Lucky\",20)\n",
        "\n",
        "print(Lucky.Name)\n",
        "print(Lucky.age)\n",
        "\n"
      ],
      "metadata": {
        "outputId": "3a08d757-6bd1-4530-fadd-e7ea5bcdd428",
        "colab": {
          "base_uri": "https://localhost:8080/"
        },
        "id": "6PIOFk49-g0f"
      },
      "execution_count": null,
      "outputs": [
        {
          "output_type": "stream",
          "name": "stdout",
          "text": [
            "Lucky\n",
            "20\n"
          ]
        }
      ]
    },
    {
      "cell_type": "code",
      "source": [
        "# child class or Inheritance\n",
        "class person(student):\n",
        "  #pass # keyword when you do not want to add other properties to the new class\n",
        "  def __init__(self,name,age,place):\n",
        "    self.name = name\n",
        "    self.age = age\n",
        "    self.place = place\n",
        "  def fun1(self):\n",
        "\n",
        "    print(\"I am\" , self.place)\n",
        "\n",
        "\n",
        "p1 = person(\"Lucky\" , 22, \"chapra\")\n",
        "p1.fun1()"
      ],
      "metadata": {
        "colab": {
          "base_uri": "https://localhost:8080/"
        },
        "id": "qQd9IYd8-vxy",
        "outputId": "2c3149cc-47db-481e-d982-a94c4fbe5c83"
      },
      "execution_count": null,
      "outputs": [
        {
          "output_type": "stream",
          "name": "stdout",
          "text": [
            "I am chapra\n"
          ]
        }
      ]
    },
    {
      "cell_type": "code",
      "source": [
        "# How to create stack using class\n",
        "# create class student with all the operation discussed...\n",
        "\n",
        "class student:\n",
        "  def __init__(self):\n",
        "   self.student = []\n",
        "\n",
        "\n",
        "  def push(self,name):\n",
        "    self.student.append(name)\n",
        "\n",
        "\n",
        "  def isEmpty(self):\n",
        "    return len(self.student) == 0\n",
        "\n",
        "\n",
        "  def pop(self):\n",
        "    if self.isEmpty():\n",
        "      return \"No student in the stack\"\n",
        "      return self.stack[-1]\n",
        "\n",
        "\n",
        "# create a different student groups.(create different stacks)\n",
        "IT_Student = student()\n",
        "IT_Student.push('Arnav')\n",
        "IT_Student.push('Tanishq')\n",
        "\n",
        "CSE_student = student()\n",
        "CSE_student.push('Lucky')\n",
        "CSE_student.push('Aditi')\n",
        "\n",
        "\n",
        "print(\"IT students List\", IT_Student.student)\n",
        "print(\"CSE students List\", CSE_student.student)"
      ],
      "metadata": {
        "colab": {
          "base_uri": "https://localhost:8080/"
        },
        "id": "QgbLN5YHGBzC",
        "outputId": "58a4b8de-c390-40f2-8ca6-0448a34851b6"
      },
      "execution_count": null,
      "outputs": [
        {
          "output_type": "stream",
          "name": "stdout",
          "text": [
            "IT students List ['Arnav', 'Tanishq']\n",
            "CSE students List ['Lucky', 'Aditi']\n"
          ]
        }
      ]
    },
    {
      "cell_type": "code",
      "source": [
        "# Arrays : How we create\n",
        "\n",
        "array = [10, 5, 78, 85, 4, 76]\n",
        "print(array[0])"
      ],
      "metadata": {
        "colab": {
          "base_uri": "https://localhost:8080/"
        },
        "id": "iygFCBotQk3J",
        "outputId": "7a84c712-2ee0-4d22-84ed-e87608b8a398"
      },
      "execution_count": null,
      "outputs": [
        {
          "output_type": "stream",
          "name": "stdout",
          "text": [
            "10\n"
          ]
        }
      ]
    },
    {
      "cell_type": "code",
      "source": [
        "# Arrays : how we create\n",
        "\n",
        "array =  [10,5, 8, 9, 76, 4]\n",
        "\n",
        "# Algorithm for minimum value\n",
        "min_value = array[0]\n",
        "for j in array:\n",
        "  if j < min_value:\n",
        "    min_value = j\n",
        "\n",
        "print(min_value)"
      ],
      "metadata": {
        "colab": {
          "base_uri": "https://localhost:8080/"
        },
        "id": "DZkXx4NiQ3xj",
        "outputId": "cd4b6816-144c-4e8f-f235-86d916fd6108"
      },
      "execution_count": null,
      "outputs": [
        {
          "output_type": "stream",
          "name": "stdout",
          "text": [
            "4\n"
          ]
        }
      ]
    },
    {
      "cell_type": "code",
      "source": [
        "# queue : Using arrays or list\n",
        "\n",
        "queue = []\n",
        "\n",
        "# Enqueue\n",
        "queue.append('AA')\n",
        "queue.append('BB')\n",
        "queue.append('CC')\n",
        "\n",
        "print(\"queue:\", queue)\n"
      ],
      "metadata": {
        "colab": {
          "base_uri": "https://localhost:8080/"
        },
        "id": "KTTimtJ-WbfV",
        "outputId": "eaab6c03-3c64-4c49-94b9-7c84a37940ee"
      },
      "execution_count": null,
      "outputs": [
        {
          "output_type": "stream",
          "name": "stdout",
          "text": [
            "queue: ['AA', 'BB', 'CC']\n"
          ]
        }
      ]
    },
    {
      "cell_type": "code",
      "source": [
        "# queue : using arrays or list\n",
        "\n",
        "\n",
        "queue = []\n",
        "\n",
        "#Enqueue\n",
        "queue.append('AA')\n",
        "queue.append('BB')\n",
        "queue.append('CC')\n",
        "queue.append('DD')\n",
        "\n",
        "print(\"queue:\", queue)\n",
        "\n",
        "#Dequeue\n",
        "\n",
        "name = queue.pop(1)\n",
        "print(\"Dequeue\",name)\n",
        "\n",
        "# size\n",
        "print(\"size:\", len(queue))\n",
        "\n",
        "# check Empty\n",
        "isEmpty = not bool(queue)\n",
        "print(\"isEmpty:\", isEmpty)\n",
        "\n"
      ],
      "metadata": {
        "colab": {
          "base_uri": "https://localhost:8080/"
        },
        "id": "Zc2qK4U3W9rc",
        "outputId": "d1bfdc51-e0ed-4179-ceb3-c93244439399"
      },
      "execution_count": null,
      "outputs": [
        {
          "output_type": "stream",
          "name": "stdout",
          "text": [
            "queue: ['AA', 'BB', 'CC', 'DD']\n",
            "Dequeue BB\n",
            "size: 3\n",
            "isEmpty: False\n"
          ]
        }
      ]
    },
    {
      "cell_type": "code",
      "source": [
        "# Write a python program for create  a child class Bus that will inherit all of the variables and methods of the vehicle clss.\n",
        "class vehicle:\n",
        "  def __init__(self,max_speed, mileage):\n",
        "    self.max_speed = max_speed\n",
        "    self.mileage = mileage\n",
        "\n",
        "modelx= vehicle(200,20)\n",
        "\n",
        "print(modelx.max_speed,modelx.mileage)"
      ],
      "metadata": {
        "colab": {
          "base_uri": "https://localhost:8080/"
        },
        "id": "WiCIHtaDi2VZ",
        "outputId": "42eb1d6a-01c4-4ae3-bb29-b5e4495cce43"
      },
      "execution_count": null,
      "outputs": [
        {
          "output_type": "stream",
          "name": "stdout",
          "text": [
            "200 20\n"
          ]
        }
      ]
    },
    {
      "cell_type": "code",
      "source": [
        "# Write a python program in which you have a starting position a car at(0,0)\n",
        "import math\n",
        "pos=[0,0]\n",
        "while True:\n",
        "  s = input(\"Enter the direction and steps: \")\n",
        "\n",
        "  if not s:\n",
        "    break\n",
        "# string ko split function ek list m convert kr deta h\n",
        "\n",
        "  movement = s.split(\" \")\n",
        "\n",
        "  # Check if the input contains both direction and steps\n",
        "  if len(movement) < 2:\n",
        "    print(\"Invalid input. Please enter both direction and steps.\")\n",
        "    continue  # Skip to the next iteration of the loop\n",
        "\n",
        "# [UP,s ]\n",
        "  direction = movement[0]\n",
        "  steps = int(movement[1])\n",
        "\n",
        "  if direction == \"UP\":\n",
        "      pos[1]+= steps\n",
        "  elif direction == \"DOWN\":\n",
        "       pos[1]-= steps\n",
        "\n",
        "  elif direction == \"LEFT\":\n",
        "        pos[0]-= steps\n",
        "\n",
        "  elif direction == \"Right\":\n",
        "        pos[0]+= steps\n",
        "\n",
        "  else:\n",
        "        pass\n",
        "\n",
        "print(int(round(math.sqrt(pos[0]**2 + pos[1]**2))))"
      ],
      "metadata": {
        "colab": {
          "base_uri": "https://localhost:8080/"
        },
        "id": "GOtZlRDw_5_y",
        "outputId": "23ff90aa-d6fb-4aec-d233-f2ccbcdf1a1b"
      },
      "execution_count": null,
      "outputs": [
        {
          "output_type": "stream",
          "name": "stdout",
          "text": [
            "Enter the direction and steps: UP 10\n",
            "Enter the direction and steps: LEFT -5\n",
            "Enter the direction and steps: \n",
            "11\n"
          ]
        }
      ]
    },
    {
      "cell_type": "code",
      "source": [
        "pow(2,3)"
      ],
      "metadata": {
        "colab": {
          "base_uri": "https://localhost:8080/"
        },
        "id": "focxEr7aBznh",
        "outputId": "bd1443df-94bb-4499-c307-367d70ab12de"
      },
      "execution_count": null,
      "outputs": [
        {
          "output_type": "execute_result",
          "data": {
            "text/plain": [
              "8"
            ]
          },
          "metadata": {},
          "execution_count": 51
        }
      ]
    },
    {
      "cell_type": "code",
      "source": [
        "# Define a function that can generate a dictionary where the keys are numbers between 1-20(both include) and the values are square of keys.\n",
        "\n",
        "def square_dict():\n",
        "  d = dict()\n",
        "  for i in range(1,21):\n",
        "    d[i] = i**2\n",
        "\n",
        "  for (k,v) in d.items():\n",
        "    print(v)\n",
        "\n",
        "square_dict()"
      ],
      "metadata": {
        "colab": {
          "base_uri": "https://localhost:8080/"
        },
        "id": "_qwV6AwxE6m0",
        "outputId": "ec04cf6e-f725-4954-ac51-2c4fa16894f3"
      },
      "execution_count": null,
      "outputs": [
        {
          "output_type": "stream",
          "name": "stdout",
          "text": [
            "1\n",
            "4\n",
            "9\n",
            "16\n",
            "25\n",
            "36\n",
            "49\n",
            "64\n",
            "81\n",
            "100\n",
            "121\n",
            "144\n",
            "169\n",
            "196\n",
            "225\n",
            "256\n",
            "289\n",
            "324\n",
            "361\n",
            "400\n"
          ]
        }
      ]
    },
    {
      "cell_type": "code",
      "source": [
        "# Stack Implementation\n",
        "student = []\n",
        "\n",
        "# push Adding element in the stack\n",
        "student.append('Arnav')\n",
        "student. append('Aditi')\n",
        "student.append('Danish')\n",
        "\n",
        "print(\"student:\", student)\n",
        "\n",
        "# peek: Top element in the stack\n",
        "tople = student[-1]\n",
        "print(\"peek:\", tople)\n",
        "\n",
        "\n",
        "# pop removing and returning elements\n",
        "\n",
        "element = student.pop()\n",
        "print(\"Return:\", element)\n",
        "\n",
        "\n",
        "# size: Number of element in the stack\n",
        "print(\"size:\", len(student))\n",
        "\n",
        "# Is Empty\n",
        "isEmpty = not bool(student)\n",
        "print(\"IsEmpty:\", isEmpty)"
      ],
      "metadata": {
        "colab": {
          "base_uri": "https://localhost:8080/"
        },
        "id": "uSF6BukVMgCW",
        "outputId": "cd33b91f-48db-4399-eb56-0e4c05f72b1f"
      },
      "execution_count": null,
      "outputs": [
        {
          "output_type": "stream",
          "name": "stdout",
          "text": [
            "student: ['Arnav', 'Aditi', 'Danish']\n",
            "peek: Danish\n",
            "Return: Danish\n",
            "size: 2\n",
            "IsEmpty: False\n"
          ]
        }
      ]
    },
    {
      "cell_type": "code",
      "source": [
        "# Link list\n",
        "class Node:\n",
        "  def __init__(self,data):\n",
        "    self.data=data\n",
        "    self.next=None\n",
        "\n",
        "# Traverasl and printing of link list from given head node.\n",
        "  def traverseAndPrint(head):\n",
        "    currentNode=head\n",
        "    while currentNode:\n",
        "       print(currentNode.data,end=\"->\")\n",
        "       currentNode=currentNode.next\n",
        "  print(\"null\")\n",
        "\n",
        "# create a list or object\n",
        "\n",
        "node1 = Node(15)\n",
        "node2 = Node(10)\n",
        "node3 = Node(5)\n",
        "node4 = Node(20)\n",
        "\n",
        "# creation of connection or link\n",
        "\n",
        "node1.next = node2\n",
        "node2.next=node3\n",
        "node3.next = node4\n",
        "\n",
        "\n",
        "# Exicuting function\n",
        "\n",
        "node2.traverseAndPrint()\n",
        "\n",
        "\n"
      ],
      "metadata": {
        "colab": {
          "base_uri": "https://localhost:8080/"
        },
        "id": "cFMPmJqOBjuh",
        "outputId": "9c3a6232-7c2c-47e1-9b1a-ccc8024925a6"
      },
      "execution_count": null,
      "outputs": [
        {
          "output_type": "stream",
          "name": "stdout",
          "text": [
            "null\n",
            "10->5->20->"
          ]
        }
      ]
    },
    {
      "cell_type": "code",
      "source": [
        "def foo(a, b=2, c= 3):\n",
        "  return a+b*c\n",
        "print(foo(1, c=4))\n",
        "# a=1, b=2, c=4"
      ],
      "metadata": {
        "colab": {
          "base_uri": "https://localhost:8080/"
        },
        "id": "eVrlxDvWD6rJ",
        "outputId": "9885c111-912d-4aa3-e637-fb31b5f60730"
      },
      "execution_count": null,
      "outputs": [
        {
          "output_type": "stream",
          "name": "stdout",
          "text": [
            "9\n"
          ]
        }
      ]
    },
    {
      "cell_type": "code",
      "source": [
        " # Date 3rd september\n",
        "\n",
        "def min_value(head):\n",
        "  minvalue = head.data\n",
        "  currentNode = head.next\n",
        "  while currentNode:\n",
        "    if currentNode.data<minvalue:\n",
        "      minvalue = currentNode.data\n",
        "    currentNode = currentNode.next\n",
        "  return minvalue\n",
        "print(\"The minimum value in the list:\", min_value(node1))"
      ],
      "metadata": {
        "colab": {
          "base_uri": "https://localhost:8080/"
        },
        "id": "WnrB2DsREScY",
        "outputId": "b5f7d2fe-1df3-49ae-ed1c-c5a7f6c55980"
      },
      "execution_count": null,
      "outputs": [
        {
          "output_type": "stream",
          "name": "stdout",
          "text": [
            "The minimum value in the list: 5\n"
          ]
        }
      ]
    },
    {
      "cell_type": "code",
      "source": [
        "# Def for deleting a node from the link list\n",
        "\n",
        "def deleteNode(head, nodeetodelete):\n",
        "  if head==nodeetodelete:\n",
        "    return head.next\n",
        "    currentNode=head\n",
        "    while currentNode:\n",
        "      if currentNode.next==nodeetodelete:\n",
        "        currentNode.next=nodeetodelete.next\n",
        "        breakcurrentNode=currentNode.next\n",
        "        return head\n",
        "# Delete a node\n",
        "node1.traverseAndPrint()\n"
      ],
      "metadata": {
        "colab": {
          "base_uri": "https://localhost:8080/"
        },
        "id": "dQGDi5Q_Fc5Z",
        "outputId": "29f0ec29-c5bf-4c6e-e9a9-fc1ccd76df6a"
      },
      "execution_count": null,
      "outputs": [
        {
          "output_type": "stream",
          "name": "stdout",
          "text": [
            "15->10->5->20->"
          ]
        }
      ]
    },
    {
      "cell_type": "code",
      "source": [
        "node1 = deleteNode(node1,node1)   # Deletion\n",
        "node1.traverseAndPrint()"
      ],
      "metadata": {
        "colab": {
          "base_uri": "https://localhost:8080/"
        },
        "id": "oCjNPruZMzPl",
        "outputId": "783bea41-2817-4ac7-faed-691931e8283a"
      },
      "execution_count": null,
      "outputs": [
        {
          "output_type": "stream",
          "name": "stdout",
          "text": [
            "10->5->20->"
          ]
        }
      ]
    },
    {
      "cell_type": "code",
      "source": [
        "# Insert a new node in the link list\n",
        "\n",
        "newNode=Node(100)\n",
        "def insertAnode(head,newnode,position):\n",
        "  if position==1:\n",
        "    newnode.next=head\n",
        "  return newnode\n",
        "  currentNode = head\n",
        "  for i in range(position-2):\n",
        "     currentNode = currentNode.next\n",
        "     newnode.next=currentNode.next\n",
        "     currentNode.next=newnode\n",
        "     return head"
      ],
      "metadata": {
        "id": "mJU_eiofP8hT"
      },
      "execution_count": null,
      "outputs": []
    },
    {
      "cell_type": "code",
      "source": [
        "newnode=Node(1001)\n",
        "node1 = insertAnode(node1,newnode,6)\n",
        "node1.traverseAndPrint()"
      ],
      "metadata": {
        "colab": {
          "base_uri": "https://localhost:8080/"
        },
        "id": "65xcukt2Q0Z7",
        "outputId": "ab014b54-792a-43c1-f9bf-8cbd81bfe0b1"
      },
      "execution_count": null,
      "outputs": [
        {
          "output_type": "stream",
          "name": "stdout",
          "text": [
            "1001->"
          ]
        }
      ]
    },
    {
      "cell_type": "code",
      "source": [
        "# Insertion sort\n",
        "Lucky_data=[30,20,15]\n",
        "\n",
        "for i in range(1, len(Lucky_data)):\n",
        "    key = Lucky_data[i]\n",
        "    j = i-1\n",
        "    while j >= 0 and key < Lucky_data[j]:\n",
        "        Lucky_data[j+1] = Lucky_data[j]\n",
        "        j -= 1\n",
        "    Lucky_data[j+1] = key\n",
        "    key=Lucky_data[i]\n",
        "    print(\"key\", key)\n",
        "    j=i-1\n",
        "    print(\"j\", Lucky_data[j])\n",
        "    # Move elements of Lucky_data[0,...,i-1], that are greater than key,\n",
        "    while j>0 and key < Lucky_data[j]:\n",
        "        Lucky_data[j+1]=Lucky_data[j]\n",
        "        print(Lucky_data)\n",
        "        j-=1\n",
        "    Lucky_data[j+1]=key\n",
        "\n",
        "print(Lucky_data)"
      ],
      "metadata": {
        "id": "HXmwP0OxKaoN",
        "outputId": "47be5c5e-07c9-4f6d-e780-abdd6ce78ea7",
        "colab": {
          "base_uri": "https://localhost:8080/"
        }
      },
      "execution_count": null,
      "outputs": [
        {
          "output_type": "stream",
          "name": "stdout",
          "text": [
            "key 30\n",
            "j 20\n",
            "key 30\n",
            "j 20\n",
            "[15, 20, 30]\n"
          ]
        }
      ]
    },
    {
      "cell_type": "code",
      "source": [
        "# quick sort algorithm\n",
        "array = [10,9,8,5,4,7,6]\n",
        "def partition(array,low,high):\n",
        "  pivot=array[high-1] # Access the last element using high-1\n",
        "  i=low-1\n",
        "  print(\"pivot\",pivot )\n",
        "  for j in range(low,high):\n",
        "   print(\"iteration\", j)\n",
        "   if array[j]<=pivot:\n",
        "    i+=1\n",
        "    array[i], array[j]=array[j],array[i]\n",
        "    print(\"If condition\", array)\n",
        "  array[i+1],array[high-1]=array[high-1], array[i+1] # Access the last element using high-1\n",
        "  return i+1\n",
        "\n",
        "partition(array,0,6) #The high value here is the length of the array, not the index of the last element\n",
        "print(array)"
      ],
      "metadata": {
        "colab": {
          "base_uri": "https://localhost:8080/"
        },
        "id": "HUnRJLg4xsDv",
        "outputId": "38f84250-f231-41df-9899-c4ceda1543da"
      },
      "execution_count": null,
      "outputs": [
        {
          "output_type": "stream",
          "name": "stdout",
          "text": [
            "pivot 7\n",
            "iteration 0\n",
            "iteration 1\n",
            "iteration 2\n",
            "iteration 3\n",
            "If condition [5, 9, 8, 10, 4, 7, 6]\n",
            "iteration 4\n",
            "If condition [5, 4, 8, 10, 9, 7, 6]\n",
            "iteration 5\n",
            "If condition [5, 4, 7, 10, 9, 8, 6]\n",
            "[5, 4, 7, 8, 9, 10, 6]\n"
          ]
        }
      ]
    },
    {
      "cell_type": "code",
      "source": [
        "# Implementation of Binary Tree\n",
        "# At max two child are possible.\n",
        "# Named child as left child and right child.\n",
        "\n",
        "class treenode:\n",
        "  def __init__(self, data):\n",
        "    self.data = data\n",
        "    self.left = None\n",
        "    self.right = None\n",
        "\n",
        "\n",
        "root=treenode('R')\n",
        "nodeA=treenode('A')\n",
        "nodeB=treenode('B')\n",
        "nodeC=treenode('C')\n",
        "nodeD=treenode('D')\n",
        "nodeE=treenode('E')\n",
        "nodeF=treenode('F')\n",
        "nodeG=treenode('G')\n",
        "nodeH=treenode('H')\n",
        "nodeI=treenode('I')\n",
        "\n",
        "root.left=nodeA\n",
        "root.right=nodeB\n",
        "\n",
        "nodeA.left=nodeC\n",
        "nodeA.right=nodeD\n",
        "\n",
        "nodeB.left=nodeE\n",
        "nodeB.right=None\n",
        "\n",
        "nodeC.left=nodeF\n",
        "nodeC.right=nodeG\n",
        "\n",
        "nodeD.left=nodeH\n",
        "nodeD.right=nodeI\n",
        "\n",
        "\n",
        "print(root.right.left.data)\n",
        "\n",
        "\n",
        "\n",
        "\n"
      ],
      "metadata": {
        "colab": {
          "base_uri": "https://localhost:8080/"
        },
        "id": "RvNnRoBLSVR5",
        "outputId": "75c6251e-c4ad-417f-a5fe-afbf38f29d4d"
      },
      "execution_count": null,
      "outputs": [
        {
          "output_type": "stream",
          "name": "stdout",
          "text": [
            "E\n"
          ]
        }
      ]
    },
    {
      "cell_type": "code",
      "source": [
        "# pre-order Traversal\n",
        "def preorderT(node):\n",
        "  if node is None:\n",
        "    return\n",
        "  print(node.data,end=\",\")\n",
        "  preorderT(node.left)\n",
        "  preorderT=(node.right)\n",
        "\n",
        "# Traversal\n",
        "preorderT(root)"
      ],
      "metadata": {
        "id": "W0EKZNdP8auS",
        "outputId": "b1270eae-786f-439d-c44e-c17eb052540c",
        "colab": {
          "base_uri": "https://localhost:8080/",
          "height": 315
        }
      },
      "execution_count": null,
      "outputs": [
        {
          "output_type": "stream",
          "name": "stdout",
          "text": [
            "R,"
          ]
        },
        {
          "output_type": "error",
          "ename": "UnboundLocalError",
          "evalue": "local variable 'preorderT' referenced before assignment",
          "traceback": [
            "\u001b[0;31m---------------------------------------------------------------------------\u001b[0m",
            "\u001b[0;31mUnboundLocalError\u001b[0m                         Traceback (most recent call last)",
            "\u001b[0;32m<ipython-input-11-aec7ddc27971>\u001b[0m in \u001b[0;36m<cell line: 10>\u001b[0;34m()\u001b[0m\n\u001b[1;32m      8\u001b[0m \u001b[0;34m\u001b[0m\u001b[0m\n\u001b[1;32m      9\u001b[0m \u001b[0;31m# Traversal\u001b[0m\u001b[0;34m\u001b[0m\u001b[0;34m\u001b[0m\u001b[0m\n\u001b[0;32m---> 10\u001b[0;31m \u001b[0mpreorderT\u001b[0m\u001b[0;34m(\u001b[0m\u001b[0mroot\u001b[0m\u001b[0;34m)\u001b[0m\u001b[0;34m\u001b[0m\u001b[0;34m\u001b[0m\u001b[0m\n\u001b[0m",
            "\u001b[0;32m<ipython-input-11-aec7ddc27971>\u001b[0m in \u001b[0;36mpreorderT\u001b[0;34m(node)\u001b[0m\n\u001b[1;32m      4\u001b[0m     \u001b[0;32mreturn\u001b[0m\u001b[0;34m\u001b[0m\u001b[0;34m\u001b[0m\u001b[0m\n\u001b[1;32m      5\u001b[0m   \u001b[0mprint\u001b[0m\u001b[0;34m(\u001b[0m\u001b[0mnode\u001b[0m\u001b[0;34m.\u001b[0m\u001b[0mdata\u001b[0m\u001b[0;34m,\u001b[0m\u001b[0mend\u001b[0m\u001b[0;34m=\u001b[0m\u001b[0;34m\",\"\u001b[0m\u001b[0;34m)\u001b[0m\u001b[0;34m\u001b[0m\u001b[0;34m\u001b[0m\u001b[0m\n\u001b[0;32m----> 6\u001b[0;31m   \u001b[0mpreorderT\u001b[0m\u001b[0;34m(\u001b[0m\u001b[0mnode\u001b[0m\u001b[0;34m.\u001b[0m\u001b[0mleft\u001b[0m\u001b[0;34m)\u001b[0m\u001b[0;34m\u001b[0m\u001b[0;34m\u001b[0m\u001b[0m\n\u001b[0m\u001b[1;32m      7\u001b[0m   \u001b[0mpreorderT\u001b[0m\u001b[0;34m=\u001b[0m\u001b[0;34m(\u001b[0m\u001b[0mnode\u001b[0m\u001b[0;34m.\u001b[0m\u001b[0mright\u001b[0m\u001b[0;34m)\u001b[0m\u001b[0;34m\u001b[0m\u001b[0;34m\u001b[0m\u001b[0m\n\u001b[1;32m      8\u001b[0m \u001b[0;34m\u001b[0m\u001b[0m\n",
            "\u001b[0;31mUnboundLocalError\u001b[0m: local variable 'preorderT' referenced before assignment"
          ]
        }
      ]
    },
    {
      "cell_type": "code",
      "source": [
        "I # IN-ORDER TRAVERSAL\n",
        "\n",
        "def inorderT(node):\n",
        "  if node is None:\n",
        "    return\n",
        "  inorderT(node.left)\n",
        "  print(node.data,end=\" ' \")\n",
        "  inorder(node.right)\n",
        "\n",
        "# Traverse\n",
        "\n",
        "inorderT(root)"
      ],
      "metadata": {
        "id": "lg8DHq_h6oRE",
        "outputId": "ae9502a4-f97f-492d-d464-4a9a9123c0fd",
        "colab": {
          "base_uri": "https://localhost:8080/",
          "height": 211
        }
      },
      "execution_count": null,
      "outputs": [
        {
          "output_type": "error",
          "ename": "NameError",
          "evalue": "name 'I' is not defined",
          "traceback": [
            "\u001b[0;31m---------------------------------------------------------------------------\u001b[0m",
            "\u001b[0;31mNameError\u001b[0m                                 Traceback (most recent call last)",
            "\u001b[0;32m<ipython-input-12-88f60ea2715e>\u001b[0m in \u001b[0;36m<cell line: 1>\u001b[0;34m()\u001b[0m\n\u001b[0;32m----> 1\u001b[0;31m \u001b[0mI\u001b[0m \u001b[0;31m# IN-ORDER TRAVERSAL\u001b[0m\u001b[0;34m\u001b[0m\u001b[0;34m\u001b[0m\u001b[0m\n\u001b[0m\u001b[1;32m      2\u001b[0m \u001b[0;34m\u001b[0m\u001b[0m\n\u001b[1;32m      3\u001b[0m \u001b[0;32mdef\u001b[0m \u001b[0minorderT\u001b[0m\u001b[0;34m(\u001b[0m\u001b[0mnode\u001b[0m\u001b[0;34m)\u001b[0m\u001b[0;34m:\u001b[0m\u001b[0;34m\u001b[0m\u001b[0;34m\u001b[0m\u001b[0m\n\u001b[1;32m      4\u001b[0m   \u001b[0;32mif\u001b[0m \u001b[0mnode\u001b[0m \u001b[0;32mis\u001b[0m \u001b[0;32mNone\u001b[0m\u001b[0;34m:\u001b[0m\u001b[0;34m\u001b[0m\u001b[0;34m\u001b[0m\u001b[0m\n\u001b[1;32m      5\u001b[0m     \u001b[0;32mreturn\u001b[0m\u001b[0;34m\u001b[0m\u001b[0;34m\u001b[0m\u001b[0m\n",
            "\u001b[0;31mNameError\u001b[0m: name 'I' is not defined"
          ]
        }
      ]
    },
    {
      "cell_type": "code",
      "source": [
        " # Function to perform iterative binary search\n",
        "def iterative_binary_search(arr, target):\n",
        "    # Initialize the left and right pointers\n",
        "    left = 0\n",
        "    right = len(arr) - 1\n",
        "\n",
        "    # Continue searching while the left pointer is less than or equal to the right pointer\n",
        "    while left <= right:\n",
        "        # Find the middle index\n",
        "        mid = left + (right - left) // 2  # This prevents overflow\n",
        "\n",
        "        # Check if the middle element is the target\n",
        "        if arr[mid] == target:\n",
        "            return mid  # Return the index of the target\n",
        "\n",
        "        # If the target is greater than the middle element, ignore the left half\n",
        "        elif arr[mid] < target:\n",
        "            left = mid + 1  # Move the left pointer to the right\n",
        "\n",
        "        # If the target is smaller than the middle element, ignore the right half\n",
        "        else:\n",
        "            right = mid - 1  # Move the right pointer to the left\n",
        "\n",
        "    # If we reach here, the target was not found\n",
        "    return -1\n",
        "\n",
        "\n",
        "# Function to perform recursive binary search\n",
        "def recursive_binary_search(arr, target, left, right):\n",
        "    # Base case: If the left index exceeds the right index, the target is not found\n",
        "    if left > right:\n",
        "        return -1\n",
        "\n",
        "    # Find the middle index\n",
        "    mid = left + (right - left) // 2  # This prevents overflow\n",
        "\n",
        "    # Check if the middle element is the target\n",
        "    if arr[mid] == target:\n",
        "        return mid  # Return the index of the target\n",
        "\n",
        "    # If the target is greater than the middle element, search in the right half\n",
        "    elif arr[mid] < target:\n",
        "        return recursive_binary_search(arr, target, mid + 1, right)  # Recursive call for right half\n",
        "\n",
        "    # If the target is smaller than the middle element, search in the left half\n",
        "    else:\n",
        "        return recursive_binary_search(arr, target, left, mid - 1)  # Recursive call for left half\n",
        "\n",
        "\n",
        "# Example usage\n",
        "if __name__ == \"__main__\":\n",
        "    arr = [1, 3, 5, 7, 9]  # Sorted list of integers\n",
        "    target = 7  # Target integer to search for\n",
        "\n",
        "    # Using the iterative binary search\n",
        "    iterative_result = iterative_binary_search(arr, target)\n",
        "    print(f\"Iterative Binary Search: The index of {target} is {iterative_result}\")\n",
        "\n",
        "    # Using the recursive binary search\n",
        "    recursive_result = recursive_binary_search(arr, target, 0, len(arr) - 1)\n",
        "    print(f\"Recursive Binary Search: The index of {target} is {recursive_result}\")"
      ],
      "metadata": {
        "colab": {
          "base_uri": "https://localhost:8080/"
        },
        "id": "pccQ0gQ-Z3Tu",
        "outputId": "9faa8fec-d7e1-42da-d19b-05eeb6f058fb"
      },
      "execution_count": 4,
      "outputs": [
        {
          "output_type": "stream",
          "name": "stdout",
          "text": [
            "Iterative Binary Search: The index of 7 is 3\n",
            "Recursive Binary Search: The index of 7 is 3\n"
          ]
        }
      ]
    },
    {
      "cell_type": "code",
      "source": [
        " def merge_and_count(arr, temp_arr, left, mid, right):\n",
        "    i = left    # Starting index for left subarray\n",
        "    j = mid + 1 # Starting index for right subarray\n",
        "    k = left    # Starting index to be sorted\n",
        "    inv_count = 0\n",
        "\n",
        "    # Conditions are checked to ensure that i doesn't exceed mid and j doesn't exceed right\n",
        "    while i <= mid and j <= right:\n",
        "        if arr[i] <= arr[j]:\n",
        "            temp_arr[k] = arr[i]\n",
        "            i += 1\n",
        "        else:\n",
        "            # There are mid - i inversions, because all remaining elements in the left subarray\n",
        "            # (arr[i], arr[i+1], ..., arr[mid]) are greater than arr[j]\n",
        "            temp_arr[k] = arr[j]\n",
        "            inv_count += (mid - i + 1)\n",
        "            j += 1\n",
        "        k += 1\n",
        "\n",
        "    # Copy the remaining elements of left subarray, if there are any\n",
        "    while i <= mid:\n",
        "        temp_arr[k] = arr[i]\n",
        "        i += 1\n",
        "        k += 1\n",
        "\n",
        "    # Copy the remaining elements of right subarray, if there are any\n",
        "    while j <= right:\n",
        "        temp_arr[k] = arr[j]\n",
        "        j += 1\n",
        "        k += 1\n",
        "\n",
        "    # Copy the sorted subarray into Original array\n",
        "    for i in range(left, right + 1):\n",
        "        arr[i] = temp_arr[i]\n",
        "\n",
        "    return inv_count\n",
        "\n",
        "def merge_sort_and_count(arr, temp_arr, left, right):\n",
        "    inv_count = 0\n",
        "    if left < right:\n",
        "        mid = (left + right) // 2\n",
        "\n",
        "        inv_count += merge_sort_and_count(arr, temp_arr, left, mid)\n",
        "        inv_count += merge_sort_and_count(arr, temp_arr, mid + 1, right)\n",
        "        inv_count += merge_and_count(arr, temp_arr, left, mid, right)\n",
        "\n",
        "    return inv_count\n",
        "\n",
        "def count_inversions(arr):\n",
        "    # Create a temporary array\n",
        "    temp_arr = [0] * len(arr)\n",
        "    return merge_sort_and_count(arr, temp_arr, 0, len(arr) - 1)\n",
        "\n",
        "# Example usage\n",
        "if __name__ == \"__main__\":\n",
        "    arr = [8, 4, 2, 1]  # Input array\n",
        "    result = count_inversions(arr)\n",
        "    print(f\"Number of inversions in the array: {result}\")"
      ],
      "metadata": {
        "colab": {
          "base_uri": "https://localhost:8080/"
        },
        "id": "EfHgj3VscA3o",
        "outputId": "110d2cf9-e04f-431a-f1d1-d0e7c939ef83"
      },
      "execution_count": 13,
      "outputs": [
        {
          "output_type": "stream",
          "name": "stdout",
          "text": [
            "Number of inversions in the array: 6\n"
          ]
        }
      ]
    },
    {
      "cell_type": "code",
      "source": [
        "def search_in_rotated_array(arr, target):\n",
        "    left, right = 0, len(arr) - 1\n",
        "\n",
        "    while left <= right:\n",
        "        mid = (left + right) // 2\n",
        "\n",
        "        # Check if we found the target\n",
        "        if arr[mid] == target:\n",
        "            return mid\n",
        "\n",
        "        # Determine which part is sorted\n",
        "        if arr[left] <= arr[mid]:  # Left part is sorted\n",
        "            if arr[left] <= target < arr[mid]:  # Target is in the left part\n",
        "                right = mid - 1\n",
        "            else:  # Target is in the right part\n",
        "                left = mid + 1\n",
        "        else:  # Right part is sorted\n",
        "            if arr[mid] < target <= arr[right]:  # Target is in the right part\n",
        "                left = mid + 1\n",
        "            else:  # Target is in the left part\n",
        "                right = mid - 1\n",
        "\n",
        "    return -1  # Target not found\n",
        "\n",
        "# Example usage\n",
        "if __name__ == \"__main__\":\n",
        "    arr = [4, 5, 6, 7, 0, 1, 2]  # Input array\n",
        "    target = 0                     # Target value\n",
        "    result = search_in_rotated_array(arr, target)\n",
        "    print(f\"Index of target {target}: {result}\")"
      ],
      "metadata": {
        "colab": {
          "base_uri": "https://localhost:8080/"
        },
        "id": "cW4onQ_1chXt",
        "outputId": "592a2532-0c0b-4498-8aca-07be858a77c7"
      },
      "execution_count": 8,
      "outputs": [
        {
          "output_type": "stream",
          "name": "stdout",
          "text": [
            "Index of target 0: 4\n"
          ]
        }
      ]
    },
    {
      "cell_type": "code",
      "source": [
        "def kth_smallest(arr, k):\n",
        "    # Sort the array in ascending order\n",
        "    sorted_arr = sorted(arr)\n",
        "\n",
        "    # Return the k-th smallest element (k-1 because list indices start at 0)\n",
        "    return sorted_arr[k - 1]\n",
        "\n",
        "# Example usage\n",
        "if __name__ == \"__main__\":\n",
        "    arr = [7, 10, 4, 3, 20, 15]  # Input list\n",
        "    k = 3                         # k-th smallest to find\n",
        "    result = kth_smallest(arr, k)\n",
        "    print(f\"The {k}-th smallest element is: {result}\")"
      ],
      "metadata": {
        "colab": {
          "base_uri": "https://localhost:8080/"
        },
        "id": "51N54QRDdTqm",
        "outputId": "ee5cf2e9-5631-4973-d2f4-58308ef46c60"
      },
      "execution_count": 10,
      "outputs": [
        {
          "output_type": "stream",
          "name": "stdout",
          "text": [
            "The 3-th smallest element is: 7\n"
          ]
        }
      ]
    },
    {
      "cell_type": "code",
      "source": [
        "from collections import Counter\n",
        "\n",
        "def frequency_sort(s):\n",
        "    # Count the frequency of each character in the string\n",
        "    char_count = Counter(s)\n",
        "\n",
        "    # Sort the characters based on frequency (in decreasing order)\n",
        "    # If two characters have the same frequency, they will be sorted by their natural order\n",
        "    sorted_chars = sorted(char_count.items(), key=lambda item: item[1], reverse=True)\n",
        "\n",
        "    # Build the output string based on sorted characters and their frequencies\n",
        "    sorted_string = ''.join(char * freq for char, freq in sorted_chars)\n",
        "\n",
        "    return sorted_string\n",
        "\n",
        "# Example usage\n",
        "if __name__ == \"__main__\":\n",
        "    s = \"tree\"  # Input string\n",
        "    result = frequency_sort(s)\n",
        "    print(f\"Sorted string by frequency: {result}\")"
      ],
      "metadata": {
        "colab": {
          "base_uri": "https://localhost:8080/"
        },
        "id": "zYYIh0x1deJc",
        "outputId": "aec8f90a-37a1-44d1-db0f-71de1dc7cd57"
      },
      "execution_count": 12,
      "outputs": [
        {
          "output_type": "stream",
          "name": "stdout",
          "text": [
            "Sorted string by frequency: eetr\n"
          ]
        }
      ]
    }
  ]
}