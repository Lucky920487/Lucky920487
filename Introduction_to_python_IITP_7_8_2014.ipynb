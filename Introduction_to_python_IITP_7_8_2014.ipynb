{
  "nbformat": 4,
  "nbformat_minor": 0,
  "metadata": {
    "colab": {
      "provenance": [],
      "authorship_tag": "ABX9TyMCDKxCCW0+s7AcKgWTeLqr",
      "include_colab_link": true
    },
    "kernelspec": {
      "name": "python3",
      "display_name": "Python 3"
    },
    "language_info": {
      "name": "python"
    }
  },
  "cells": [
    {
      "cell_type": "markdown",
      "metadata": {
        "id": "view-in-github",
        "colab_type": "text"
      },
      "source": [
        "<a href=\"https://colab.research.google.com/github/Lucky920487/Lucky920487/blob/main/Introduction_to_python_IITP_7_8_2014.ipynb\" target=\"_parent\"><img src=\"https://colab.research.google.com/assets/colab-badge.svg\" alt=\"Open In Colab\"/></a>"
      ]
    },
    {
      "cell_type": "code",
      "execution_count": null,
      "metadata": {
        "colab": {
          "base_uri": "https://localhost:8080/"
        },
        "id": "V5HX7ISuKXpp",
        "outputId": "361b3874-3d01-436d-ad51-56db51664393"
      },
      "outputs": [
        {
          "output_type": "stream",
          "name": "stdout",
          "text": [
            "Hello, World\n"
          ]
        }
      ],
      "source": [
        "print(\"Hello, World\")"
      ]
    },
    {
      "cell_type": "code",
      "source": [
        "# This is a comment.\n",
        "# Develop by lucky.\n",
        "# to check if condition.\n",
        "if 7 > 3:\n",
        "  print(\"yes. It is correct\")         # This is correct.\n",
        "  if 7>3:\n",
        "     print(\"yes. It is correct\")\n",
        "\n",
        "\n",
        "\"\"\"\n",
        "this is a comment.\n",
        "develop by lucky.\n",
        "To check if condition.\n",
        "\"\"\""
      ],
      "metadata": {
        "colab": {
          "base_uri": "https://localhost:8080/",
          "height": 72
        },
        "id": "FIlrP4abNRiQ",
        "outputId": "55f3b481-8456-40e9-eef5-31e3b625a311"
      },
      "execution_count": null,
      "outputs": [
        {
          "output_type": "stream",
          "name": "stdout",
          "text": [
            "yes. It is correct\n",
            "yes. It is correct\n"
          ]
        },
        {
          "output_type": "execute_result",
          "data": {
            "text/plain": [
              "'\\nthis is a comment.\\ndevelop by lucky.\\nTo check if condition.\\n'"
            ],
            "application/vnd.google.colaboratory.intrinsic+json": {
              "type": "string"
            }
          },
          "metadata": {},
          "execution_count": 21
        }
      ]
    },
    {
      "cell_type": "code",
      "source": [
        "\"\"\"\n",
        "This is a comment.\n",
        "Develop by lucky.\n",
        "To check if condition\n",
        "\"\"\"\n",
        "if 7 > 3:\n",
        "  print(\"yes. It is correct.\")\n",
        "  if 7>3:\n",
        "    print(\"yes. It is correct.\")"
      ],
      "metadata": {
        "colab": {
          "base_uri": "https://localhost:8080/"
        },
        "id": "hAeVbNMmQpvC",
        "outputId": "3c7c1676-df75-427f-a7da-967fa6bfa2e6"
      },
      "execution_count": null,
      "outputs": [
        {
          "output_type": "stream",
          "name": "stdout",
          "text": [
            "yes. It is correct.\n",
            "yes. It is correct.\n"
          ]
        }
      ]
    },
    {
      "cell_type": "code",
      "source": [
        "# Variables.\n",
        "x_2 = 8\n",
        "y = 9.5\n",
        "z = x_2+y\n",
        "print(z)"
      ],
      "metadata": {
        "colab": {
          "base_uri": "https://localhost:8080/"
        },
        "id": "Vzp_OhkuTLHK",
        "outputId": "5032db60-a7b8-4412-a62e-44d2acf49dfd"
      },
      "execution_count": null,
      "outputs": [
        {
          "output_type": "stream",
          "name": "stdout",
          "text": [
            "17.5\n"
          ]
        }
      ]
    },
    {
      "cell_type": "code",
      "source": [
        "x = float(2)\n",
        "y = float(9.6)\n",
        "z = int(\"6\")         # covert int to float\n",
        "w = float (7)\n",
        "t = z+w\n",
        "print(t)\n",
        "print(x)\n",
        "print(y)\n",
        "print(z)\n",
        "print(w)"
      ],
      "metadata": {
        "colab": {
          "base_uri": "https://localhost:8080/"
        },
        "id": "aDxhCM7qbtjA",
        "outputId": "e2604a77-1bd9-4e3a-97eb-37b7ca42d645"
      },
      "execution_count": null,
      "outputs": [
        {
          "output_type": "stream",
          "name": "stdout",
          "text": [
            "13.0\n",
            "2.0\n",
            "9.6\n",
            "6\n",
            "7.0\n"
          ]
        }
      ]
    },
    {
      "cell_type": "code",
      "source": [
        "# List\n",
        "mylist = [\"mango\", \"apple\", \"banana\"]\n",
        "mylist_1 = [5,6,7,8]\n",
        "print(mylist)\n",
        "print(mylist_1)"
      ],
      "metadata": {
        "colab": {
          "base_uri": "https://localhost:8080/"
        },
        "id": "6tzB6YfMiUkC",
        "outputId": "2ecd048a-ce3b-4952-8494-991674606fbf"
      },
      "execution_count": null,
      "outputs": [
        {
          "output_type": "stream",
          "name": "stdout",
          "text": [
            "['mango', 'apple', 'banana']\n",
            "[5, 6, 7, 8]\n"
          ]
        }
      ]
    },
    {
      "cell_type": "code",
      "source": [
        "# Function\n",
        "#def keyboard is used to define function in the python.\n",
        "def Lucky_function():\n",
        "  print(\"Hello! Its my function\")\n",
        "\n",
        "Lucky_function()    # Calling a function"
      ],
      "metadata": {
        "colab": {
          "base_uri": "https://localhost:8080/"
        },
        "id": "MIaX82AEmU4-",
        "outputId": "12719394-ced1-4434-859f-796aaa2854d6"
      },
      "execution_count": null,
      "outputs": [
        {
          "output_type": "stream",
          "name": "stdout",
          "text": [
            "Hello! Its my function\n"
          ]
        }
      ]
    },
    {
      "cell_type": "code",
      "source": [
        "def my_function(arg):\n",
        "  print(arg )\n",
        "\n",
        "my_function(\"Lucky\")\n"
      ],
      "metadata": {
        "colab": {
          "base_uri": "https://localhost:8080/"
        },
        "id": "TlDVJ-V2puMM",
        "outputId": "44604def-e488-4aa7-e1f4-052c780623eb"
      },
      "execution_count": null,
      "outputs": [
        {
          "output_type": "stream",
          "name": "stdout",
          "text": [
            "Lucky\n"
          ]
        }
      ]
    },
    {
      "cell_type": "code",
      "source": [
        "def m1_function(x):\n",
        "  fun_value = x*x+5*x-34\n",
        "  print(fun_value)\n",
        "\n",
        "m1_function(100)"
      ],
      "metadata": {
        "colab": {
          "base_uri": "https://localhost:8080/"
        },
        "id": "0sZ-BBtutfTq",
        "outputId": "897175e8-21a9-47e9-c8aa-70832ff3c5a8"
      },
      "execution_count": null,
      "outputs": [
        {
          "output_type": "stream",
          "name": "stdout",
          "text": [
            "10466\n"
          ]
        }
      ]
    },
    {
      "cell_type": "code",
      "source": [
        "#Arbitary arguments\n",
        "def my_function(*students):\n",
        "  \"\"\"\n",
        "\n",
        "  Args:\n",
        "    *students:\n",
        "  \"\"\"\n",
        "  print(\"The student detail:\" + students[1])\n",
        "\n",
        "my_function(\"Lucky\", \"Rohan\", \"Nikita\", )"
      ],
      "metadata": {
        "colab": {
          "base_uri": "https://localhost:8080/"
        },
        "id": "W4l0yrXcu5i_",
        "outputId": "db683504-2080-4eb2-af12-96865fc03b7f"
      },
      "execution_count": null,
      "outputs": [
        {
          "output_type": "stream",
          "name": "stdout",
          "text": [
            "The student detail:Rohan\n"
          ]
        }
      ]
    },
    {
      "cell_type": "code",
      "source": [
        "# keyboard-only arguments\n",
        "def my_function(y):\n",
        "  print(y)\n",
        "\n",
        "my_function(3)"
      ],
      "metadata": {
        "colab": {
          "base_uri": "https://localhost:8080/"
        },
        "id": "oQRY83_lw35C",
        "outputId": "019b2518-acc4-48f4-92ae-bb18b9e32015"
      },
      "execution_count": null,
      "outputs": [
        {
          "output_type": "stream",
          "name": "stdout",
          "text": [
            "3\n"
          ]
        }
      ]
    },
    {
      "cell_type": "code",
      "source": [
        "# positional only arguments\n",
        "def my_function(y,/):\n",
        "  print(y)\n",
        "\n",
        "my_function(3)"
      ],
      "metadata": {
        "colab": {
          "base_uri": "https://localhost:8080/"
        },
        "id": "Hsbyyts-xZ9e",
        "outputId": "68b9431b-507f-4995-984c-c28191b47f3a"
      },
      "execution_count": null,
      "outputs": [
        {
          "output_type": "stream",
          "name": "stdout",
          "text": [
            "3\n"
          ]
        }
      ]
    },
    {
      "cell_type": "code",
      "source": [
        "# Factorial of given number using recursion\n",
        "def factorial(n):\n",
        "  if(n==1 or n==0):\n",
        "    return 1\n",
        "  else:\n",
        "    value=(n*factorial(n-1))\n",
        "    return(value)\n",
        "factorial(100)"
      ],
      "metadata": {
        "colab": {
          "base_uri": "https://localhost:8080/"
        },
        "id": "t-fDacHGzBfQ",
        "outputId": "5a7c7d8e-ecb7-4ae4-9f75-ac938a60fb25"
      },
      "execution_count": null,
      "outputs": [
        {
          "output_type": "execute_result",
          "data": {
            "text/plain": [
              "93326215443944152681699238856266700490715968264381621468592963895217599993229915608941463976156518286253697920827223758251185210916864000000000000000000000000"
            ]
          },
          "metadata": {},
          "execution_count": 25
        }
      ]
    },
    {
      "cell_type": "code",
      "source": [
        "# List as an argument\n",
        "def my_function(fruits):\n",
        "  for x in fruits:\n",
        "   print(x)\n",
        "\n",
        "fruits = (\"banana\", \"apple\", \"mango\")\n",
        "my_function(fruits)"
      ],
      "metadata": {
        "colab": {
          "base_uri": "https://localhost:8080/"
        },
        "id": "h_xHAiGn1MNr",
        "outputId": "a19b9ecd-3dc3-4d23-ee26-1b59185d6316"
      },
      "execution_count": null,
      "outputs": [
        {
          "output_type": "stream",
          "name": "stdout",
          "text": [
            "banana\n",
            "apple\n",
            "mango\n"
          ]
        }
      ]
    },
    {
      "cell_type": "code",
      "source": [
        "# Fibonacci sequenceF(n)=F(n-1)+F(n-2)n>2,where F(0)=0 F(1)=1"
      ],
      "metadata": {
        "id": "QiG3OH3e34dB"
      },
      "execution_count": null,
      "outputs": []
    },
    {
      "cell_type": "code",
      "source": [
        "def fibonacci(n):\n",
        "  if n <=1 :\n",
        "   return n\n",
        "  else:\n",
        "    value = fibonacci(n-1)+fibonacci(n-2)\n",
        "    return(value)\n",
        "print(fibonacci(35))"
      ],
      "metadata": {
        "colab": {
          "base_uri": "https://localhost:8080/"
        },
        "id": "V__wPcHm4yB9",
        "outputId": "cecbe0e4-debd-4eb6-d932-b70276606905"
      },
      "execution_count": null,
      "outputs": [
        {
          "output_type": "stream",
          "name": "stdout",
          "text": [
            "9227465\n"
          ]
        }
      ]
    },
    {
      "cell_type": "code",
      "source": [
        "def fibonacci(n):\n",
        " if(n==0):\n",
        "  return 0\n",
        " elif(n==1):\n",
        "  return 1\n",
        " else:\n",
        "  return fibonacci(n-1)+fibonacci(n-2)\n",
        "\n",
        "fibonacci(35)"
      ],
      "metadata": {
        "colab": {
          "base_uri": "https://localhost:8080/"
        },
        "id": "bWr_XIxk-Gqu",
        "outputId": "bf370cb2-6ddf-4b98-a7e7-fc3b88cd24df"
      },
      "execution_count": null,
      "outputs": [
        {
          "output_type": "execute_result",
          "data": {
            "text/plain": [
              "9227465"
            ]
          },
          "metadata": {},
          "execution_count": 36
        }
      ]
    },
    {
      "cell_type": "code",
      "source": [
        "# classes and objects\n",
        "class student:       # class definition\n",
        " def __init__(self,name,age):\n",
        "  self.Name = name\n",
        "  self.age = age\n",
        "\n",
        "Lucky= student (\"Lucky\",20)\n",
        "\n",
        "print(Lucky.Name)\n",
        "print(Lucky.age)\n",
        "\n"
      ],
      "metadata": {
        "colab": {
          "base_uri": "https://localhost:8080/"
        },
        "id": "69ymbw3Ckzfm",
        "outputId": "3a08d757-6bd1-4530-fadd-e7ea5bcdd428"
      },
      "execution_count": 6,
      "outputs": [
        {
          "output_type": "stream",
          "name": "stdout",
          "text": [
            "Lucky\n",
            "20\n"
          ]
        }
      ]
    },
    {
      "cell_type": "code",
      "source": [
        "# classes and objects\n",
        "class student:         # class definition\n",
        " Ins = \"IIT PATNA\"\n",
        "\n",
        " def __init__(self,name,age):\n",
        "   self.name =  name\n",
        "   self.age = age\n",
        "\n",
        " def fun(self):\n",
        "    print(\"I am \" , self.name)\n",
        "    print(\"I am \" , self.age)\n",
        "\n",
        "\n",
        "# object Initiations\n",
        "s1 = student(\"Lucky\" , 19)\n",
        "s2 = student(\"Nikita\", 19)\n",
        "\n",
        "\n",
        "# Accessing class attributes and methods through objects\n",
        "\n",
        "\n",
        "\n",
        "print(s1.name)\n",
        "print(s1.Ins)\n",
        "print(s1.age)\n",
        "s2.fun()\n"
      ],
      "metadata": {
        "colab": {
          "base_uri": "https://localhost:8080/"
        },
        "id": "e2MBsbk3n0q_",
        "outputId": "53faf231-07ba-4ac8-e1f0-14379ed20c80"
      },
      "execution_count": 8,
      "outputs": [
        {
          "output_type": "stream",
          "name": "stdout",
          "text": [
            "Lucky\n",
            "IIT PATNA\n",
            "19\n",
            "I am  Nikita\n",
            "I am  19\n"
          ]
        }
      ]
    },
    {
      "cell_type": "code",
      "source": [
        "# classes and objects\n",
        "class bank :    # class definition\n",
        "  def __init__(self,name,age,mobile,city): # Corrected constructor name\n",
        "    self.name = name\n",
        "    self.age = age\n",
        "    self.mobile =  mobile\n",
        "    self.city = city\n",
        "# object Initiations\n",
        "s1 = bank(\"Lucky\",19,\"79036*****\", \"patna\")\n",
        "s2 = bank(\"blank\",20,\"9934******\", \"agra\")\n",
        "s3 = bank(\"blank\",20,\"9835******\", \"delhi\") # Assuming 'bank' is a defined class\n",
        "\n",
        " # Accessing class attributes and methods through objects\n",
        "\n",
        "print(s1.name,s1.age, s1.mobile,s1.city)\n",
        "print(s2.name,s2.age,s2.mobile,s2.city)\n",
        "print(s3.name,s3.age,s3.mobile,s3.city)"
      ],
      "metadata": {
        "colab": {
          "base_uri": "https://localhost:8080/"
        },
        "id": "gv9jj1REwgtX",
        "outputId": "49e6b0cd-d9da-4deb-b228-6becf9a37e5b"
      },
      "execution_count": 24,
      "outputs": [
        {
          "output_type": "stream",
          "name": "stdout",
          "text": [
            "Lucky 19 79036***** patna\n",
            "blank 20 9934****** agra\n",
            "blank 20 9835****** delhi\n"
          ]
        }
      ]
    },
    {
      "cell_type": "markdown",
      "source": [
        "python inheritance\n",
        "// It allows us to define a class that inherits all the methods and features from another class:\n",
        "parent class: Base class\n",
        "child class: Derived class which inherits fron another/parent class."
      ],
      "metadata": {
        "id": "cRuNoHS19pYQ"
      }
    },
    {
      "cell_type": "code",
      "source": [
        "# parent class\n",
        "class student:       # class definition\n",
        " def __init__(self,name,age):\n",
        "  self.Name = name\n",
        "  self.age = age\n",
        "\n",
        "Lucky= student (\"Lucky\",20)\n",
        "\n",
        "print(Lucky.Name)\n",
        "print(Lucky.age)\n",
        "\n"
      ],
      "metadata": {
        "outputId": "3a08d757-6bd1-4530-fadd-e7ea5bcdd428",
        "colab": {
          "base_uri": "https://localhost:8080/"
        },
        "id": "6PIOFk49-g0f"
      },
      "execution_count": null,
      "outputs": [
        {
          "output_type": "stream",
          "name": "stdout",
          "text": [
            "Lucky\n",
            "20\n"
          ]
        }
      ]
    },
    {
      "cell_type": "code",
      "source": [
        "# child class or Inheritance\n",
        "class person(student):\n",
        "  #pass # keyword when you do not want to add other properties to the new class\n",
        "  def __init__(self,name,age,place):\n",
        "    self.name = name\n",
        "    self.age = age\n",
        "    self.place = place\n",
        "  def fun1(self):\n",
        "\n",
        "    print(\"I am\" , self.place)\n",
        "\n",
        "\n",
        "p1 = person(\"Lucky\" , 22, \"chapra\")\n",
        "p1.fun1()"
      ],
      "metadata": {
        "colab": {
          "base_uri": "https://localhost:8080/"
        },
        "id": "qQd9IYd8-vxy",
        "outputId": "2c3149cc-47db-481e-d982-a94c4fbe5c83"
      },
      "execution_count": 37,
      "outputs": [
        {
          "output_type": "stream",
          "name": "stdout",
          "text": [
            "I am chapra\n"
          ]
        }
      ]
    }
  ]
}