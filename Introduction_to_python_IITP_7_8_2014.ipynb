{
  "nbformat": 4,
  "nbformat_minor": 0,
  "metadata": {
    "colab": {
      "provenance": [],
      "authorship_tag": "ABX9TyNZM2HOGGYypaGEMEmFfEYJ",
      "include_colab_link": true
    },
    "kernelspec": {
      "name": "python3",
      "display_name": "Python 3"
    },
    "language_info": {
      "name": "python"
    }
  },
  "cells": [
    {
      "cell_type": "markdown",
      "metadata": {
        "id": "view-in-github",
        "colab_type": "text"
      },
      "source": [
        "<a href=\"https://colab.research.google.com/github/Lucky920487/Lucky920487/blob/main/Introduction_to_python_IITP_7_8_2014.ipynb\" target=\"_parent\"><img src=\"https://colab.research.google.com/assets/colab-badge.svg\" alt=\"Open In Colab\"/></a>"
      ]
    },
    {
      "cell_type": "code",
      "execution_count": 11,
      "metadata": {
        "colab": {
          "base_uri": "https://localhost:8080/"
        },
        "id": "V5HX7ISuKXpp",
        "outputId": "361b3874-3d01-436d-ad51-56db51664393"
      },
      "outputs": [
        {
          "output_type": "stream",
          "name": "stdout",
          "text": [
            "Hello, World\n"
          ]
        }
      ],
      "source": [
        "print(\"Hello, World\")"
      ]
    },
    {
      "cell_type": "code",
      "source": [
        "# This is a comment.\n",
        "# Develop by lucky.\n",
        "# to check if condition.\n",
        "if 7 > 3:\n",
        "  print(\"yes. It is correct\")         # This is correct.\n",
        "  if 7>3:\n",
        "     print(\"yes. It is correct\")\n",
        "\n",
        "\n",
        "\"\"\"\n",
        "this is a comment.\n",
        "develop by lucky.\n",
        "To check if condition.\n",
        "\"\"\""
      ],
      "metadata": {
        "colab": {
          "base_uri": "https://localhost:8080/",
          "height": 72
        },
        "id": "FIlrP4abNRiQ",
        "outputId": "55f3b481-8456-40e9-eef5-31e3b625a311"
      },
      "execution_count": 21,
      "outputs": [
        {
          "output_type": "stream",
          "name": "stdout",
          "text": [
            "yes. It is correct\n",
            "yes. It is correct\n"
          ]
        },
        {
          "output_type": "execute_result",
          "data": {
            "text/plain": [
              "'\\nthis is a comment.\\ndevelop by lucky.\\nTo check if condition.\\n'"
            ],
            "application/vnd.google.colaboratory.intrinsic+json": {
              "type": "string"
            }
          },
          "metadata": {},
          "execution_count": 21
        }
      ]
    },
    {
      "cell_type": "code",
      "source": [
        "\"\"\"\n",
        "This is a comment.\n",
        "Develop by lucky.\n",
        "To check if condition\n",
        "\"\"\"\n",
        "if 7 > 3:\n",
        "  print(\"yes. It is correct.\")\n",
        "  if 7>3:\n",
        "    print(\"yes. It is correct.\")"
      ],
      "metadata": {
        "colab": {
          "base_uri": "https://localhost:8080/"
        },
        "id": "hAeVbNMmQpvC",
        "outputId": "3c7c1676-df75-427f-a7da-967fa6bfa2e6"
      },
      "execution_count": 22,
      "outputs": [
        {
          "output_type": "stream",
          "name": "stdout",
          "text": [
            "yes. It is correct.\n",
            "yes. It is correct.\n"
          ]
        }
      ]
    },
    {
      "cell_type": "code",
      "source": [
        "# Variables.\n",
        "x_2 = 8\n",
        "y = 9.5\n",
        "z = x_2+y\n",
        "print(z)"
      ],
      "metadata": {
        "colab": {
          "base_uri": "https://localhost:8080/"
        },
        "id": "Vzp_OhkuTLHK",
        "outputId": "5032db60-a7b8-4412-a62e-44d2acf49dfd"
      },
      "execution_count": 24,
      "outputs": [
        {
          "output_type": "stream",
          "name": "stdout",
          "text": [
            "17.5\n"
          ]
        }
      ]
    },
    {
      "cell_type": "code",
      "source": [
        "x = float(2)\n",
        "y = float(9.6)\n",
        "z = int(\"6\")         # covert int to float\n",
        "w = float (7)\n",
        "t = z+w\n",
        "print(t)\n",
        "print(x)\n",
        "print(y)\n",
        "print(z)\n",
        "print(w)"
      ],
      "metadata": {
        "colab": {
          "base_uri": "https://localhost:8080/"
        },
        "id": "aDxhCM7qbtjA",
        "outputId": "e2604a77-1bd9-4e3a-97eb-37b7ca42d645"
      },
      "execution_count": 27,
      "outputs": [
        {
          "output_type": "stream",
          "name": "stdout",
          "text": [
            "13.0\n",
            "2.0\n",
            "9.6\n",
            "6\n",
            "7.0\n"
          ]
        }
      ]
    },
    {
      "cell_type": "code",
      "source": [
        "# List\n",
        "mylist = [\"mango\", \"apple\", \"banana\"]\n",
        "mylist_1 = [5,6,7,8]\n",
        "print(mylist)\n",
        "print(mylist_1)"
      ],
      "metadata": {
        "colab": {
          "base_uri": "https://localhost:8080/"
        },
        "id": "6tzB6YfMiUkC",
        "outputId": "2ecd048a-ce3b-4952-8494-991674606fbf"
      },
      "execution_count": 29,
      "outputs": [
        {
          "output_type": "stream",
          "name": "stdout",
          "text": [
            "['mango', 'apple', 'banana']\n",
            "[5, 6, 7, 8]\n"
          ]
        }
      ]
    },
    {
      "cell_type": "code",
      "source": [
        "# Function\n",
        "#def keyboard is used to define function in the python.\n",
        "def Lucky_function():\n",
        "  print(\"Hello! Its my function\")\n",
        "\n",
        "Lucky_function()    # Calling a function"
      ],
      "metadata": {
        "colab": {
          "base_uri": "https://localhost:8080/"
        },
        "id": "MIaX82AEmU4-",
        "outputId": "12719394-ced1-4434-859f-796aaa2854d6"
      },
      "execution_count": 31,
      "outputs": [
        {
          "output_type": "stream",
          "name": "stdout",
          "text": [
            "Hello! Its my function\n"
          ]
        }
      ]
    }
  ]
}